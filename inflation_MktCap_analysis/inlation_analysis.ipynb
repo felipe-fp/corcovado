{
 "metadata": {
  "language_info": {
   "codemirror_mode": {
    "name": "ipython",
    "version": 3
   },
   "file_extension": ".py",
   "mimetype": "text/x-python",
   "name": "python",
   "nbconvert_exporter": "python",
   "pygments_lexer": "ipython3",
   "version": "3.8.1"
  },
  "orig_nbformat": 2,
  "kernelspec": {
   "name": "python381jvsc74a57bd0ffb68e0c4e666ed97c858c39e3a8a463c1391ee64a4daf3f271967ec2a9d7a7a",
   "display_name": "Python 3.8.1 64-bit ('fenicsproject': conda)"
  }
 },
 "nbformat": 4,
 "nbformat_minor": 2,
 "cells": [
  {
   "cell_type": "code",
   "execution_count": 1,
   "metadata": {},
   "outputs": [],
   "source": [
    "import pandas as pd\n",
    "import numpy as np\n",
    "import statsmodels.api as sm\n",
    "from statsmodels.tsa.stattools import grangercausalitytests\n",
    "from statsmodels.formula.api import ols\n",
    "from statsmodels.tsa.stattools import adfuller \n",
    "from statsmodels.tsa.api import VAR"
   ]
  },
  {
   "cell_type": "code",
   "execution_count": 2,
   "metadata": {},
   "outputs": [],
   "source": [
    "velocity_M1 = pd.read_csv('M1V.csv', index_col = 0)\n",
    "velocity_M1.index = pd.to_datetime(velocity_M1.index)\n",
    "\n",
    "velocity_M2 = pd.read_csv('M2V.csv', index_col = 0)\n",
    "velocity_M2.index = pd.to_datetime(velocity_M2.index)\n",
    "\n",
    "velocity_M1 = velocity_M1.resample('Y').mean().loc[:'2018']\n",
    "velocity_M2 = velocity_M2.resample('Y').mean().loc[:'2018']"
   ]
  },
  {
   "cell_type": "code",
   "execution_count": 3,
   "metadata": {},
   "outputs": [],
   "source": [
    "mkt_cap = pd.read_csv('market_cap_usa.csv', sep = ';')\n",
    "mkt_cap = mkt_cap.T.loc['1980':'2018']\n",
    "mkt_cap.columns = ['MktCap']\n",
    "mkt_cap.index = pd.to_datetime(mkt_cap.index)\n",
    "mkt_cap['MktCap'] = mkt_cap['MktCap'].astype(float)"
   ]
  },
  {
   "cell_type": "code",
   "execution_count": 4,
   "metadata": {},
   "outputs": [],
   "source": [
    "m2_data = pd.read_csv('M2_money_stock.csv', index_col = 0)\n",
    "m1_data = pd.read_csv('M1_money_stock.csv', index_col = 0)\n",
    "m0_data = pd.read_csv('monetary_base_curr_in_circulation.csv', index_col = 0)\n",
    "gdp_data = pd.read_csv('GDP.csv', index_col = 0)\n",
    "\n",
    "m2_data.index = pd.to_datetime(m2_data.index)\n",
    "m2_data.columns = ['M2']\n",
    "m2_data = m2_data.resample('Y').mean().loc[:'2018']\n",
    "\n",
    "m1_data.index = pd.to_datetime(m1_data.index)\n",
    "m1_data.columns = ['M1']\n",
    "m1_data = m1_data.resample('Y').mean().loc[:'2018']\n",
    "\n",
    "m0_data.index = pd.to_datetime(m0_data.index)\n",
    "m0_data.columns = ['M0']\n",
    "m0_data = m0_data.resample('Y').mean().loc[:'2018']\n",
    "\n",
    "gdp_data.index = pd.to_datetime(gdp_data.index)\n",
    "gdp_data.columns = ['GDP']\n",
    "gdp_data = gdp_data.resample('Y').mean().loc[:'2018']"
   ]
  },
  {
   "cell_type": "code",
   "execution_count": 5,
   "metadata": {},
   "outputs": [],
   "source": [
    "inflation_data = pd.read_csv('CPIAUCSL.csv', index_col = 0)\n",
    "inflation_data.index = pd.to_datetime(inflation_data.index)\n",
    "inflation_data.columns = ['inflation']"
   ]
  },
  {
   "cell_type": "code",
   "execution_count": 6,
   "metadata": {},
   "outputs": [],
   "source": [
    "inflation_data_r = inflation_data.resample('Y').last()"
   ]
  },
  {
   "cell_type": "code",
   "execution_count": 7,
   "metadata": {},
   "outputs": [
    {
     "output_type": "stream",
     "name": "stdout",
     "text": [
      "            inflation        MktCap           M2          M1             M0  \\\n1980-12-31       86.4  1.359798e+12  1601.088889  395.671154  127541.666667   \n1981-12-31       94.1  1.263561e+12  1678.838462  424.721154  137466.666667   \n1982-12-31       97.7  1.456865e+12  1829.963462  452.748077  147466.666667   \n\n                   GDP      M1V      M2V  \n1980-12-31  2857.30850  7.22075  1.85525  \n1981-12-31  3207.04125  7.54625  1.91025  \n1982-12-31  3343.78925  7.38350  1.82675  \n"
     ]
    }
   ],
   "source": [
    "test_data = inflation_data_r.join(mkt_cap, how = 'outer')\n",
    "test_data['MktCap'] = test_data['MktCap'].fillna(method = 'ffill')\n",
    "test_data = test_data.dropna()\n",
    "\n",
    "test_data = test_data.join(m2_data)\n",
    "test_data = test_data.join(m1_data)\n",
    "test_data = test_data.join(m0_data)\n",
    "test_data = test_data.join(gdp_data)\n",
    "test_data = test_data.join(velocity_M1)\n",
    "test_data = test_data.join(velocity_M2)\n",
    "\n",
    "print(test_data.head(3))"
   ]
  },
  {
   "cell_type": "code",
   "execution_count": 8,
   "metadata": {},
   "outputs": [
    {
     "output_type": "stream",
     "name": "stdout",
     "text": [
      "inflation 0.02674860485527895\nMktCap 5.36082125877159e-10\nM2 0.05592024984262006\nM1 0.07856074994268304\nM0 0.0005118237553102041\nGDP 0.0002605168315555126\nM1V 0.02898692399238875\nM2V 0.001502837033158367\n"
     ]
    }
   ],
   "source": [
    "test_data_log_diff = np.log(test_data) - np.log(test_data).shift(1)\n",
    "test_data_log_diff = test_data_log_diff.dropna()\n",
    "for col in test_data_log_diff.columns:\n",
    "    print(col, adfuller(test_data_log_diff[col].values)[1])"
   ]
  },
  {
   "source": [
    "## Granger Causality"
   ],
   "cell_type": "markdown",
   "metadata": {}
  },
  {
   "cell_type": "code",
   "execution_count": 9,
   "metadata": {},
   "outputs": [
    {
     "output_type": "stream",
     "name": "stdout",
     "text": [
      "\nGranger Causality\nnumber of lags (no zero) 1\nssr based F test:         F=0.0361  , p=0.8505  , df_denom=34, df_num=1\nssr based chi2 test:   chi2=0.0393  , p=0.8429  , df=1\nlikelihood ratio test: chi2=0.0392  , p=0.8430  , df=1\nparameter F test:         F=0.0361  , p=0.8505  , df_denom=34, df_num=1\n\nGranger Causality\nnumber of lags (no zero) 2\nssr based F test:         F=0.1504  , p=0.8610  , df_denom=31, df_num=2\nssr based chi2 test:   chi2=0.3494  , p=0.8397  , df=2\nlikelihood ratio test: chi2=0.3477  , p=0.8404  , df=2\nparameter F test:         F=0.1504  , p=0.8610  , df_denom=31, df_num=2\n\nGranger Causality\nnumber of lags (no zero) 3\nssr based F test:         F=0.2542  , p=0.8577  , df_denom=28, df_num=3\nssr based chi2 test:   chi2=0.9534  , p=0.8125  , df=3\nlikelihood ratio test: chi2=0.9406  , p=0.8156  , df=3\nparameter F test:         F=0.2542  , p=0.8577  , df_denom=28, df_num=3\n"
     ]
    },
    {
     "output_type": "execute_result",
     "data": {
      "text/plain": [
       "{1: ({'ssr_ftest': (0.03607125589636708, 0.8504977979952043, 34.0, 1),\n",
       "   'ssr_chi2test': (0.03925401376957594, 0.8429462817907549, 1),\n",
       "   'lrtest': (0.03923320581503731, 0.8429873715261069, 1),\n",
       "   'params_ftest': (0.03607125589636955, 0.8504977979952043, 34.0, 1.0)},\n",
       "  [<statsmodels.regression.linear_model.RegressionResultsWrapper at 0x7fdf6058b490>,\n",
       "   <statsmodels.regression.linear_model.RegressionResultsWrapper at 0x7fdf62c6adf0>,\n",
       "   array([[0., 1., 0.]])]),\n",
       " 2: ({'ssr_ftest': (0.15041818427362053, 0.8609722431207676, 31.0, 2),\n",
       "   'ssr_chi2test': (0.3493583634742154, 0.8397263771172908, 2),\n",
       "   'lrtest': (0.34767409477706224, 0.8404338373893544, 2),\n",
       "   'params_ftest': (0.15041818427362763, 0.8609722431207617, 31.0, 2.0)},\n",
       "  [<statsmodels.regression.linear_model.RegressionResultsWrapper at 0x7fdf62c6a730>,\n",
       "   <statsmodels.regression.linear_model.RegressionResultsWrapper at 0x7fdf62c6aeb0>,\n",
       "   array([[0., 0., 1., 0., 0.],\n",
       "          [0., 0., 0., 1., 0.]])]),\n",
       " 3: ({'ssr_ftest': (0.2542267420053502, 0.8576550313003078, 28.0, 3),\n",
       "   'ssr_chi2test': (0.9533502825200635, 0.8125377270131335, 3),\n",
       "   'lrtest': (0.9405973910651824, 0.8156212935549606, 3),\n",
       "   'params_ftest': (0.2542267420053476, 0.8576550313003093, 28.0, 3.0)},\n",
       "  [<statsmodels.regression.linear_model.RegressionResultsWrapper at 0x7fdf62c6ae80>,\n",
       "   <statsmodels.regression.linear_model.RegressionResultsWrapper at 0x7fdf62c3dac0>,\n",
       "   array([[0., 0., 0., 1., 0., 0., 0.],\n",
       "          [0., 0., 0., 0., 1., 0., 0.],\n",
       "          [0., 0., 0., 0., 0., 1., 0.]])])}"
      ]
     },
     "metadata": {},
     "execution_count": 9
    }
   ],
   "source": [
    "data = test_data_log_diff[['inflation', 'MktCap']]\n",
    "gc_res = grangercausalitytests(data, 3)\n",
    "gc_res"
   ]
  },
  {
   "cell_type": "code",
   "execution_count": 10,
   "metadata": {},
   "outputs": [
    {
     "output_type": "stream",
     "name": "stdout",
     "text": [
      "\nGranger Causality\nnumber of lags (no zero) 1\nssr based F test:         F=0.1088  , p=0.7436  , df_denom=34, df_num=1\nssr based chi2 test:   chi2=0.1184  , p=0.7308  , df=1\nlikelihood ratio test: chi2=0.1182  , p=0.7310  , df=1\nparameter F test:         F=0.1088  , p=0.7436  , df_denom=34, df_num=1\n\nGranger Causality\nnumber of lags (no zero) 2\nssr based F test:         F=0.1988  , p=0.8207  , df_denom=31, df_num=2\nssr based chi2 test:   chi2=0.4617  , p=0.7938  , df=2\nlikelihood ratio test: chi2=0.4588  , p=0.7950  , df=2\nparameter F test:         F=0.1988  , p=0.8207  , df_denom=31, df_num=2\n\nGranger Causality\nnumber of lags (no zero) 3\nssr based F test:         F=0.0374  , p=0.9901  , df_denom=28, df_num=3\nssr based chi2 test:   chi2=0.1404  , p=0.9866  , df=3\nlikelihood ratio test: chi2=0.1401  , p=0.9866  , df=3\nparameter F test:         F=0.0374  , p=0.9901  , df_denom=28, df_num=3\n"
     ]
    },
    {
     "output_type": "execute_result",
     "data": {
      "text/plain": [
       "{1: ({'ssr_ftest': (0.10878155625114586, 0.7435591218727227, 34.0, 1),\n",
       "   'ssr_chi2test': (0.11837992886154107, 0.7307982729453613, 1),\n",
       "   'lrtest': (0.1181909560501424, 0.7310048863150549, 1),\n",
       "   'params_ftest': (0.10878155625114062, 0.7435591218727314, 34.0, 1.0)},\n",
       "  [<statsmodels.regression.linear_model.RegressionResultsWrapper at 0x7fdf62bfc640>,\n",
       "   <statsmodels.regression.linear_model.RegressionResultsWrapper at 0x7fdf62c6ad60>,\n",
       "   array([[0., 1., 0.]])]),\n",
       " 2: ({'ssr_ftest': (0.19880521951517705, 0.8207464356432992, 31.0, 2),\n",
       "   'ssr_chi2test': (0.46174115500299184, 0.7938422004280258, 2),\n",
       "   'lrtest': (0.45880505515569325, 0.7950084562611904, 2),\n",
       "   'params_ftest': (0.19880521951517874, 0.8207464356432977, 31.0, 2.0)},\n",
       "  [<statsmodels.regression.linear_model.RegressionResultsWrapper at 0x7fdf62d13b80>,\n",
       "   <statsmodels.regression.linear_model.RegressionResultsWrapper at 0x7fdf62d13bb0>,\n",
       "   array([[0., 0., 1., 0., 0.],\n",
       "          [0., 0., 0., 1., 0.]])]),\n",
       " 3: ({'ssr_ftest': (0.037437691371087115, 0.9900983609326295, 28.0, 3),\n",
       "   'ssr_chi2test': (0.14039134264157666, 0.9865843579255654, 3),\n",
       "   'lrtest': (0.1401105257709503, 0.9866234718161244, 3),\n",
       "   'params_ftest': (0.03743769137108761, 0.9900983609326292, 28.0, 3.0)},\n",
       "  [<statsmodels.regression.linear_model.RegressionResultsWrapper at 0x7fdf62d13a60>,\n",
       "   <statsmodels.regression.linear_model.RegressionResultsWrapper at 0x7fdf62d13b50>,\n",
       "   array([[0., 0., 0., 1., 0., 0., 0.],\n",
       "          [0., 0., 0., 0., 1., 0., 0.],\n",
       "          [0., 0., 0., 0., 0., 1., 0.]])])}"
      ]
     },
     "metadata": {},
     "execution_count": 10
    }
   ],
   "source": [
    "data_inv = test_data_log_diff[['MktCap', 'inflation']]\n",
    "gc_res_inv = grangercausalitytests(data_inv, 3)\n",
    "gc_res_inv"
   ]
  },
  {
   "source": [
    "## VAR ANALYSIS"
   ],
   "cell_type": "markdown",
   "metadata": {}
  },
  {
   "source": [
    "### VAR: inflation, MktCap"
   ],
   "cell_type": "markdown",
   "metadata": {}
  },
  {
   "cell_type": "code",
   "execution_count": 11,
   "metadata": {},
   "outputs": [
    {
     "output_type": "stream",
     "name": "stderr",
     "text": [
      "/Users/felipe/anaconda/envs/fenicsproject/lib/python3.8/site-packages/statsmodels/tsa/base/tsa_model.py:159: ValueWarning: No frequency information was provided, so inferred frequency A-DEC will be used.\n  warnings.warn('No frequency information was'\n"
     ]
    },
    {
     "output_type": "execute_result",
     "data": {
      "text/plain": [
       "  Summary of Regression Results   \n",
       "==================================\n",
       "Model:                         VAR\n",
       "Method:                        OLS\n",
       "Date:           Wed, 21, Apr, 2021\n",
       "Time:                     08:56:28\n",
       "--------------------------------------------------------------------\n",
       "No. of Equations:         2.00000    BIC:                   -10.8391\n",
       "Nobs:                     34.0000    HQIC:                  -11.3716\n",
       "Log likelihood:           119.514    FPE:                8.97272e-06\n",
       "AIC:                     -11.6471    Det(Omega_mle):     5.60977e-06\n",
       "--------------------------------------------------------------------\n",
       "Results for equation inflation\n",
       "===============================================================================\n",
       "                  coefficient       std. error           t-stat            prob\n",
       "-------------------------------------------------------------------------------\n",
       "const                0.011787         0.007160            1.646           0.100\n",
       "L1.inflation         0.211030         0.201685            1.046           0.295\n",
       "L1.MktCap           -0.005612         0.013420           -0.418           0.676\n",
       "L2.inflation         0.271630         0.200609            1.354           0.176\n",
       "L2.MktCap            0.002611         0.013365            0.195           0.845\n",
       "L3.inflation         0.015943         0.198589            0.080           0.936\n",
       "L3.MktCap           -0.007778         0.013314           -0.584           0.559\n",
       "L4.inflation         0.037554         0.159157            0.236           0.813\n",
       "L4.MktCap            0.005221         0.013355            0.391           0.696\n",
       "===============================================================================\n",
       "\n",
       "Results for equation MktCap\n",
       "===============================================================================\n",
       "                  coefficient       std. error           t-stat            prob\n",
       "-------------------------------------------------------------------------------\n",
       "const                0.031684         0.104743            0.302           0.762\n",
       "L1.inflation        -0.429200         2.950451           -0.145           0.884\n",
       "L1.MktCap           -0.135308         0.196323           -0.689           0.491\n",
       "L2.inflation        -0.214782         2.934716           -0.073           0.942\n",
       "L2.MktCap           -0.150952         0.195517           -0.772           0.440\n",
       "L3.inflation         0.572141         2.905157            0.197           0.844\n",
       "L3.MktCap            0.116176         0.194776            0.596           0.551\n",
       "L4.inflation         2.481622         2.328308            1.066           0.286\n",
       "L4.MktCap           -0.032393         0.195376           -0.166           0.868\n",
       "===============================================================================\n",
       "\n",
       "Correlation matrix of residuals\n",
       "             inflation    MktCap\n",
       "inflation     1.000000  0.183488\n",
       "MktCap        0.183488  1.000000\n",
       "\n"
      ]
     },
     "metadata": {},
     "execution_count": 11
    }
   ],
   "source": [
    "model = VAR(test_data_log_diff[['inflation', 'MktCap']])\n",
    "results = model.fit(4)\n",
    "results.summary()"
   ]
  },
  {
   "source": [
    "## VAR: inflation, M2, MktCap"
   ],
   "cell_type": "markdown",
   "metadata": {}
  },
  {
   "cell_type": "code",
   "execution_count": 12,
   "metadata": {},
   "outputs": [
    {
     "output_type": "stream",
     "name": "stderr",
     "text": [
      "/Users/felipe/anaconda/envs/fenicsproject/lib/python3.8/site-packages/statsmodels/tsa/base/tsa_model.py:159: ValueWarning: No frequency information was provided, so inferred frequency A-DEC will be used.\n  warnings.warn('No frequency information was'\n"
     ]
    },
    {
     "output_type": "execute_result",
     "data": {
      "text/plain": [
       "  Summary of Regression Results   \n",
       "==================================\n",
       "Model:                         VAR\n",
       "Method:                        OLS\n",
       "Date:           Wed, 21, Apr, 2021\n",
       "Time:                     08:56:28\n",
       "--------------------------------------------------------------------\n",
       "No. of Equations:         3.00000    BIC:                   -17.9413\n",
       "Nobs:                     34.0000    HQIC:                  -19.0951\n",
       "Log likelihood:           229.035    FPE:                3.17045e-09\n",
       "AIC:                     -19.6922    Det(Omega_mle):     1.20023e-09\n",
       "--------------------------------------------------------------------\n",
       "Results for equation inflation\n",
       "===============================================================================\n",
       "                  coefficient       std. error           t-stat            prob\n",
       "-------------------------------------------------------------------------------\n",
       "const                0.010967         0.011325            0.968           0.333\n",
       "L1.inflation         0.161253         0.204398            0.789           0.430\n",
       "L1.M2               -0.254747         0.187226           -1.361           0.174\n",
       "L1.MktCap           -0.004986         0.013703           -0.364           0.716\n",
       "L2.inflation         0.189317         0.204786            0.924           0.355\n",
       "L2.M2                0.141811         0.201950            0.702           0.483\n",
       "L2.MktCap            0.001532         0.013735            0.112           0.911\n",
       "L3.inflation         0.095985         0.202745            0.473           0.636\n",
       "L3.M2               -0.028927         0.168311           -0.172           0.864\n",
       "L3.MktCap            0.002936         0.015268            0.192           0.848\n",
       "L4.inflation        -0.030335         0.193304           -0.157           0.875\n",
       "L4.M2                0.186890         0.129066            1.448           0.148\n",
       "L4.MktCap            0.007285         0.014390            0.506           0.613\n",
       "===============================================================================\n",
       "\n",
       "Results for equation M2\n",
       "===============================================================================\n",
       "                  coefficient       std. error           t-stat            prob\n",
       "-------------------------------------------------------------------------------\n",
       "const                0.031284         0.013050            2.397           0.017\n",
       "L1.inflation        -0.061464         0.235531           -0.261           0.794\n",
       "L1.M2                0.595627         0.215744            2.761           0.006\n",
       "L1.MktCap           -0.018638         0.015790           -1.180           0.238\n",
       "L2.inflation         0.318792         0.235979            1.351           0.177\n",
       "L2.M2                0.121631         0.232711            0.523           0.601\n",
       "L2.MktCap            0.033280         0.015827            2.103           0.035\n",
       "L3.inflation        -0.429429         0.233627           -1.838           0.066\n",
       "L3.M2                0.100996         0.193948            0.521           0.603\n",
       "L3.MktCap            0.009421         0.017594            0.535           0.592\n",
       "L4.inflation        -0.212816         0.222747           -0.955           0.339\n",
       "L4.M2               -0.224323         0.148726           -1.508           0.131\n",
       "L4.MktCap           -0.010067         0.016582           -0.607           0.544\n",
       "===============================================================================\n",
       "\n",
       "Results for equation MktCap\n",
       "===============================================================================\n",
       "                  coefficient       std. error           t-stat            prob\n",
       "-------------------------------------------------------------------------------\n",
       "const                0.118890         0.178292            0.667           0.505\n",
       "L1.inflation         0.073965         3.217794            0.023           0.982\n",
       "L1.M2                0.676671         2.947465            0.230           0.818\n",
       "L1.MktCap           -0.158808         0.215721           -0.736           0.462\n",
       "L2.inflation        -0.002748         3.223915           -0.001           0.999\n",
       "L2.M2               -0.196430         3.179271           -0.062           0.951\n",
       "L2.MktCap           -0.174371         0.216225           -0.806           0.420\n",
       "L3.inflation         0.225007         3.191779            0.070           0.944\n",
       "L3.M2               -1.005945         2.649686           -0.380           0.704\n",
       "L3.MktCap            0.063994         0.240362            0.266           0.790\n",
       "L4.inflation         2.632731         3.043145            0.865           0.387\n",
       "L4.M2               -0.980485         2.031871           -0.483           0.629\n",
       "L4.MktCap           -0.078230         0.226546           -0.345           0.730\n",
       "===============================================================================\n",
       "\n",
       "Correlation matrix of residuals\n",
       "             inflation        M2    MktCap\n",
       "inflation     1.000000  0.087712  0.289977\n",
       "M2            0.087712  1.000000 -0.133786\n",
       "MktCap        0.289977 -0.133786  1.000000\n",
       "\n"
      ]
     },
     "metadata": {},
     "execution_count": 12
    }
   ],
   "source": [
    "model = VAR(test_data_log_diff[['inflation','M2', 'MktCap']])\n",
    "results = model.fit(4)\n",
    "results.summary()"
   ]
  },
  {
   "source": [
    "## VAR: inflation, M2, GDP, MktCap"
   ],
   "cell_type": "markdown",
   "metadata": {}
  },
  {
   "cell_type": "code",
   "execution_count": 13,
   "metadata": {},
   "outputs": [
    {
     "output_type": "stream",
     "name": "stderr",
     "text": [
      "/Users/felipe/anaconda/envs/fenicsproject/lib/python3.8/site-packages/statsmodels/tsa/base/tsa_model.py:159: ValueWarning: No frequency information was provided, so inferred frequency A-DEC will be used.\n  warnings.warn('No frequency information was'\n"
     ]
    },
    {
     "output_type": "execute_result",
     "data": {
      "text/plain": [
       "  Summary of Regression Results   \n",
       "==================================\n",
       "Model:                         VAR\n",
       "Method:                        OLS\n",
       "Date:           Wed, 21, Apr, 2021\n",
       "Time:                     08:56:28\n",
       "--------------------------------------------------------------------\n",
       "No. of Equations:         4.00000    BIC:                   -26.1101\n",
       "Nobs:                     34.0000    HQIC:                  -28.1217\n",
       "Log likelihood:           370.791    FPE:                3.20683e-13\n",
       "AIC:                     -29.1628    Det(Omega_mle):     6.33448e-14\n",
       "--------------------------------------------------------------------\n",
       "Results for equation inflation\n",
       "===============================================================================\n",
       "                  coefficient       std. error           t-stat            prob\n",
       "-------------------------------------------------------------------------------\n",
       "const                0.001966         0.010614            0.185           0.853\n",
       "L1.inflation        -0.186881         0.217171           -0.861           0.389\n",
       "L1.M2               -0.005228         0.189253           -0.028           0.978\n",
       "L1.GDP               0.413121         0.237880            1.737           0.082\n",
       "L1.MktCap           -0.000607         0.012751           -0.048           0.962\n",
       "L2.inflation         0.149477         0.210471            0.710           0.478\n",
       "L2.M2               -0.116027         0.197611           -0.587           0.557\n",
       "L2.GDP              -0.053374         0.242823           -0.220           0.826\n",
       "L2.MktCap           -0.022104         0.018647           -1.185           0.236\n",
       "L3.inflation         0.125871         0.207517            0.607           0.544\n",
       "L3.M2               -0.210797         0.159003           -1.326           0.185\n",
       "L3.GDP              -0.156186         0.205097           -0.762           0.446\n",
       "L3.MktCap           -0.014563         0.017258           -0.844           0.399\n",
       "L4.inflation        -0.260983         0.175331           -1.489           0.137\n",
       "L4.M2                0.340858         0.127011            2.684           0.007\n",
       "L4.GDP               0.403414         0.140891            2.863           0.004\n",
       "L4.MktCap            0.004108         0.017152            0.240           0.811\n",
       "===============================================================================\n",
       "\n",
       "Results for equation M2\n",
       "===============================================================================\n",
       "                  coefficient       std. error           t-stat            prob\n",
       "-------------------------------------------------------------------------------\n",
       "const                0.035165         0.014665            2.398           0.016\n",
       "L1.inflation        -0.319301         0.300068           -1.064           0.287\n",
       "L1.M2                0.547600         0.261494            2.094           0.036\n",
       "L1.GDP               0.200422         0.328682            0.610           0.542\n",
       "L1.MktCap           -0.026812         0.017619           -1.522           0.128\n",
       "L2.inflation         0.088639         0.290812            0.305           0.761\n",
       "L2.M2                0.150748         0.273041            0.552           0.581\n",
       "L2.GDP               0.341074         0.335512            1.017           0.309\n",
       "L2.MktCap            0.010849         0.025765            0.421           0.674\n",
       "L3.inflation        -0.375944         0.286729           -1.311           0.190\n",
       "L3.M2               -0.043052         0.219697           -0.196           0.845\n",
       "L3.GDP              -0.138830         0.283385           -0.490           0.624\n",
       "L3.MktCap           -0.016997         0.023846           -0.713           0.476\n",
       "L4.inflation        -0.269012         0.242257           -1.110           0.267\n",
       "L4.M2               -0.186322         0.175494           -1.062           0.288\n",
       "L4.GDP               0.032763         0.194672            0.168           0.866\n",
       "L4.MktCap           -0.015810         0.023699           -0.667           0.505\n",
       "===============================================================================\n",
       "\n",
       "Results for equation GDP\n",
       "===============================================================================\n",
       "                  coefficient       std. error           t-stat            prob\n",
       "-------------------------------------------------------------------------------\n",
       "const                0.006601         0.011979            0.551           0.582\n",
       "L1.inflation        -0.035928         0.245118           -0.147           0.883\n",
       "L1.M2                0.193692         0.213608            0.907           0.365\n",
       "L1.GDP               0.788388         0.268492            2.936           0.003\n",
       "L1.MktCap            0.063569         0.014392            4.417           0.000\n",
       "L2.inflation        -0.281701         0.237557           -1.186           0.236\n",
       "L2.M2               -0.175241         0.223041           -0.786           0.432\n",
       "L2.GDP              -0.405065         0.274072           -1.478           0.139\n",
       "L2.MktCap           -0.015780         0.021047           -0.750           0.453\n",
       "L3.inflation         0.127540         0.234222            0.545           0.586\n",
       "L3.M2               -0.121768         0.179466           -0.679           0.497\n",
       "L3.GDP               0.042880         0.231491            0.185           0.853\n",
       "L3.MktCap            0.010005         0.019479            0.514           0.608\n",
       "L4.inflation        -0.018164         0.197894           -0.092           0.927\n",
       "L4.M2                0.218542         0.143357            1.524           0.127\n",
       "L4.GDP               0.307911         0.159022            1.936           0.053\n",
       "L4.MktCap           -0.015770         0.019359           -0.815           0.415\n",
       "===============================================================================\n",
       "\n",
       "Results for equation MktCap\n",
       "===============================================================================\n",
       "                  coefficient       std. error           t-stat            prob\n",
       "-------------------------------------------------------------------------------\n",
       "const                0.070432         0.198123            0.355           0.722\n",
       "L1.inflation        -2.862744         4.053929           -0.706           0.480\n",
       "L1.M2                1.880594         3.532788            0.532           0.595\n",
       "L1.GDP               7.504486         4.440507            1.690           0.091\n",
       "L1.MktCap           -0.303797         0.238027           -1.276           0.202\n",
       "L2.inflation        -0.591910         3.928876           -0.151           0.880\n",
       "L2.M2               -1.315203         3.688800           -0.357           0.721\n",
       "L2.GDP              -4.229528         4.532780           -0.933           0.351\n",
       "L2.MktCap           -0.581293         0.348083           -1.670           0.095\n",
       "L3.inflation         3.801666         3.873724            0.981           0.326\n",
       "L3.M2               -0.534058         2.968120           -0.180           0.857\n",
       "L3.GDP               1.924175         3.828545            0.503           0.615\n",
       "L3.MktCap            0.038214         0.322162            0.119           0.906\n",
       "L4.inflation         2.439580         3.272906            0.745           0.456\n",
       "L4.M2               -1.763233         2.370926           -0.744           0.457\n",
       "L4.GDP              -2.493360         2.630019           -0.948           0.343\n",
       "L4.MktCap           -0.169707         0.320177           -0.530           0.596\n",
       "===============================================================================\n",
       "\n",
       "Correlation matrix of residuals\n",
       "             inflation        M2       GDP    MktCap\n",
       "inflation     1.000000 -0.061610  0.348579  0.382166\n",
       "M2           -0.061610  1.000000 -0.499506 -0.258217\n",
       "GDP           0.348579 -0.499506  1.000000  0.490388\n",
       "MktCap        0.382166 -0.258217  0.490388  1.000000\n",
       "\n"
      ]
     },
     "metadata": {},
     "execution_count": 13
    }
   ],
   "source": [
    "model = VAR(test_data_log_diff[['inflation','M2','GDP', 'MktCap']])\n",
    "results = model.fit(4)\n",
    "results.summary()"
   ]
  },
  {
   "source": [
    "## VAR: inlfation, M2, GDP, MV2, MktCap"
   ],
   "cell_type": "markdown",
   "metadata": {}
  },
  {
   "cell_type": "code",
   "execution_count": 14,
   "metadata": {},
   "outputs": [
    {
     "output_type": "stream",
     "name": "stderr",
     "text": [
      "/Users/felipe/anaconda/envs/fenicsproject/lib/python3.8/site-packages/statsmodels/tsa/base/tsa_model.py:159: ValueWarning: No frequency information was provided, so inferred frequency A-DEC will be used.\n  warnings.warn('No frequency information was'\n"
     ]
    },
    {
     "output_type": "execute_result",
     "data": {
      "text/plain": [
       "  Summary of Regression Results   \n",
       "==================================\n",
       "Model:                         VAR\n",
       "Method:                        OLS\n",
       "Date:           Wed, 21, Apr, 2021\n",
       "Time:                     08:56:28\n",
       "--------------------------------------------------------------------\n",
       "No. of Equations:         5.00000    BIC:                   -41.2908\n",
       "Nobs:                     34.0000    HQIC:                  -44.3971\n",
       "Log likelihood:           645.859    FPE:                2.95219e-20\n",
       "AIC:                     -46.0046    Det(Omega_mle):     2.66517e-21\n",
       "--------------------------------------------------------------------\n",
       "Results for equation inflation\n",
       "===============================================================================\n",
       "                  coefficient       std. error           t-stat            prob\n",
       "-------------------------------------------------------------------------------\n",
       "const               -0.015012         0.012251           -1.225           0.220\n",
       "L1.inflation        -0.126715         0.239454           -0.529           0.597\n",
       "L1.M2              -26.398851         8.439568           -3.128           0.002\n",
       "L1.GDP              26.676026         8.408407            3.173           0.002\n",
       "L1.M2V             -26.590378         8.507978           -3.125           0.002\n",
       "L1.MktCap           -0.016569         0.012793           -1.295           0.195\n",
       "L2.inflation         0.370866         0.197805            1.875           0.061\n",
       "L2.M2               -4.900205         9.821668           -0.499           0.618\n",
       "L2.GDP               5.116561         9.881335            0.518           0.605\n",
       "L2.M2V              -4.940613         9.882266           -0.500           0.617\n",
       "L2.MktCap           -0.002304         0.019121           -0.120           0.904\n",
       "L3.inflation         0.331995         0.228020            1.456           0.145\n",
       "L3.M2               -2.356158         7.857628           -0.300           0.764\n",
       "L3.GDP               1.654749         7.877450            0.210           0.834\n",
       "L3.M2V              -1.971501         7.876903           -0.250           0.802\n",
       "L3.MktCap           -0.020118         0.016197           -1.242           0.214\n",
       "L4.inflation         0.001838         0.228974            0.008           0.994\n",
       "L4.M2                0.423880         0.678707            0.625           0.532\n",
       "L4.GDP               0.296152         0.705751            0.420           0.675\n",
       "L4.M2V               0.060971         0.712519            0.086           0.932\n",
       "L4.MktCap            0.016910         0.015613            1.083           0.279\n",
       "===============================================================================\n",
       "\n",
       "Results for equation M2\n",
       "===============================================================================\n",
       "                  coefficient       std. error           t-stat            prob\n",
       "-------------------------------------------------------------------------------\n",
       "const                0.011545         0.016733            0.690           0.490\n",
       "L1.inflation        -0.722955         0.327049           -2.211           0.027\n",
       "L1.M2              -17.559543        11.526842           -1.523           0.128\n",
       "L1.GDP              18.666846        11.484282            1.625           0.104\n",
       "L1.M2V             -18.525477        11.620278           -1.594           0.111\n",
       "L1.MktCap           -0.022622         0.017473           -1.295           0.195\n",
       "L2.inflation        -0.038707         0.270164           -0.143           0.886\n",
       "L2.M2              -10.266652        13.414528           -0.765           0.444\n",
       "L2.GDP              10.250827        13.496021            0.760           0.448\n",
       "L2.M2V             -10.141074        13.497294           -0.751           0.452\n",
       "L2.MktCap            0.022557         0.026115            0.864           0.388\n",
       "L3.inflation        -0.009074         0.311432           -0.029           0.977\n",
       "L3.M2              -35.252688        10.732023           -3.285           0.001\n",
       "L3.GDP              34.820089        10.759096            3.236           0.001\n",
       "L3.M2V             -35.158660        10.758350           -3.268           0.001\n",
       "L3.MktCap           -0.042130         0.022122           -1.904           0.057\n",
       "L4.inflation         0.287912         0.312734            0.921           0.357\n",
       "L4.M2                0.857875         0.926984            0.925           0.355\n",
       "L4.GDP              -0.430262         0.963921           -0.446           0.655\n",
       "L4.M2V               0.803446         0.973165            0.826           0.409\n",
       "L4.MktCap            0.003287         0.021325            0.154           0.878\n",
       "===============================================================================\n",
       "\n",
       "Results for equation GDP\n",
       "===============================================================================\n",
       "                  coefficient       std. error           t-stat            prob\n",
       "-------------------------------------------------------------------------------\n",
       "const                0.014998         0.015224            0.985           0.325\n",
       "L1.inflation         0.449351         0.297559            1.510           0.131\n",
       "L1.M2               -4.406325        10.487471           -0.420           0.674\n",
       "L1.GDP               5.309629        10.448749            0.508           0.611\n",
       "L1.M2V              -4.630472        10.572482           -0.438           0.661\n",
       "L1.MktCap            0.063027         0.015897            3.965           0.000\n",
       "L2.inflation        -0.074146         0.245803           -0.302           0.763\n",
       "L2.M2               23.566408        12.204945            1.931           0.053\n",
       "L2.GDP             -23.980750        12.279090           -1.953           0.051\n",
       "L2.M2V              23.746347        12.280248            1.934           0.053\n",
       "L2.MktCap            0.010508         0.023760            0.442           0.658\n",
       "L3.inflation        -0.187382         0.283350           -0.661           0.508\n",
       "L3.M2               16.722115         9.764321            1.713           0.087\n",
       "L3.GDP             -17.160643         9.788953           -1.753           0.080\n",
       "L3.M2V              17.070444         9.788274            1.744           0.081\n",
       "L3.MktCap            0.018629         0.020127            0.926           0.355\n",
       "L4.inflation        -0.342880         0.284535           -1.205           0.228\n",
       "L4.M2               -1.111576         0.843398           -1.318           0.188\n",
       "L4.GDP               1.662310         0.877005            1.895           0.058\n",
       "L4.M2V              -1.442694         0.885415           -1.629           0.103\n",
       "L4.MktCap           -0.009404         0.019402           -0.485           0.628\n",
       "===============================================================================\n",
       "\n",
       "Results for equation M2V\n",
       "===============================================================================\n",
       "                  coefficient       std. error           t-stat            prob\n",
       "-------------------------------------------------------------------------------\n",
       "const                0.003100         0.027633            0.112           0.911\n",
       "L1.inflation         1.171899         0.540115            2.170           0.030\n",
       "L1.M2               12.945764        19.036370            0.680           0.496\n",
       "L1.GDP             -13.152962        18.966083           -0.693           0.488\n",
       "L1.M2V              13.682942        19.190678            0.713           0.476\n",
       "L1.MktCap            0.085856         0.028856            2.975           0.003\n",
       "L2.inflation        -0.024504         0.446170           -0.055           0.956\n",
       "L2.M2               33.197894        22.153849            1.499           0.134\n",
       "L2.GDP             -33.605522        22.288433           -1.508           0.132\n",
       "L2.M2V              33.258084        22.290535            1.492           0.136\n",
       "L2.MktCap           -0.011820         0.043129           -0.274           0.784\n",
       "L3.inflation        -0.172750         0.514324           -0.336           0.737\n",
       "L3.M2               51.495767        17.723740            2.905           0.004\n",
       "L3.GDP             -51.491459        17.768452           -2.898           0.004\n",
       "L3.M2V              51.740505        17.767219            2.912           0.004\n",
       "L3.MktCap            0.060988         0.036534            1.669           0.095\n",
       "L4.inflation        -0.630784         0.516475           -1.221           0.222\n",
       "L4.M2               -1.968023         1.530897           -1.286           0.199\n",
       "L4.GDP               2.089309         1.591898            1.312           0.189\n",
       "L4.M2V              -2.241410         1.607164           -1.395           0.163\n",
       "L4.MktCap           -0.012311         0.035218           -0.350           0.727\n",
       "===============================================================================\n",
       "\n",
       "Results for equation MktCap\n",
       "===============================================================================\n",
       "                  coefficient       std. error           t-stat            prob\n",
       "-------------------------------------------------------------------------------\n",
       "const                0.141251         0.259560            0.544           0.586\n",
       "L1.inflation         3.290235         5.073273            0.649           0.517\n",
       "L1.M2             -215.268697       178.807752           -1.204           0.229\n",
       "L1.GDP             222.634254       178.147551            1.250           0.211\n",
       "L1.M2V            -218.752638       180.257159           -1.214           0.225\n",
       "L1.MktCap           -0.323975         0.271045           -1.195           0.232\n",
       "L2.inflation         3.392029         4.190856            0.809           0.418\n",
       "L2.M2              265.504769       208.090092            1.276           0.202\n",
       "L2.GDP            -270.649781       209.354239           -1.293           0.196\n",
       "L2.M2V             267.699654       209.373982            1.279           0.201\n",
       "L2.MktCap           -0.095767         0.405106           -0.236           0.813\n",
       "L3.inflation         0.829463         4.831020            0.172           0.864\n",
       "L3.M2              141.003541       166.478285            0.847           0.397\n",
       "L3.GDP            -143.608907       166.898256           -0.860           0.390\n",
       "L3.M2V             144.477481       166.886676            0.866           0.387\n",
       "L3.MktCap            0.158961         0.343166            0.463           0.643\n",
       "L4.inflation        -0.926625         4.851226           -0.191           0.849\n",
       "L4.M2              -24.796225        14.379648           -1.724           0.085\n",
       "L4.GDP              21.372937        14.952623            1.429           0.153\n",
       "L4.M2V             -25.159189        15.096019           -1.667           0.096\n",
       "L4.MktCap            0.002599         0.330798            0.008           0.994\n",
       "===============================================================================\n",
       "\n",
       "Correlation matrix of residuals\n",
       "             inflation        M2       GDP       M2V    MktCap\n",
       "inflation     1.000000 -0.293793  0.316641  0.347323  0.236934\n",
       "M2           -0.293793  1.000000 -0.523601 -0.887104 -0.298275\n",
       "GDP           0.316641 -0.523601  1.000000  0.857474  0.289696\n",
       "M2V           0.347323 -0.887104  0.857474  1.000000  0.330398\n",
       "MktCap        0.236934 -0.298275  0.289696  0.330398  1.000000\n",
       "\n"
      ]
     },
     "metadata": {},
     "execution_count": 14
    }
   ],
   "source": [
    "model = VAR(test_data_log_diff[['inflation','M2','GDP', 'M2V', 'MktCap']])\n",
    "results = model.fit(4)\n",
    "results.summary()"
   ]
  },
  {
   "cell_type": "code",
   "execution_count": 15,
   "metadata": {},
   "outputs": [
    {
     "output_type": "stream",
     "name": "stderr",
     "text": [
      "/Users/felipe/anaconda/envs/fenicsproject/lib/python3.8/site-packages/statsmodels/tsa/base/tsa_model.py:159: ValueWarning: No frequency information was provided, so inferred frequency A-DEC will be used.\n  warnings.warn('No frequency information was'\n"
     ]
    },
    {
     "output_type": "execute_result",
     "data": {
      "text/plain": [
       "  Summary of Regression Results   \n",
       "==================================\n",
       "Model:                         VAR\n",
       "Method:                        OLS\n",
       "Date:           Wed, 21, Apr, 2021\n",
       "Time:                     08:56:28\n",
       "--------------------------------------------------------------------\n",
       "No. of Equations:         4.00000    BIC:                   -38.6245\n",
       "Nobs:                     34.0000    HQIC:                  -40.6361\n",
       "Log likelihood:           583.537    FPE:                1.17794e-18\n",
       "AIC:                     -41.6772    Det(Omega_mle):     2.32680e-19\n",
       "--------------------------------------------------------------------\n",
       "Results for equation inflation\n",
       "===============================================================================\n",
       "                  coefficient       std. error           t-stat            prob\n",
       "-------------------------------------------------------------------------------\n",
       "const               -0.008107         0.011899           -0.681           0.496\n",
       "L1.inflation        -0.065662         0.199438           -0.329           0.742\n",
       "L1.M2              -19.885731         7.266449           -2.737           0.006\n",
       "L1.GDP              20.112834         7.276587            2.764           0.006\n",
       "L1.M2V             -19.986289         7.324890           -2.729           0.006\n",
       "L2.inflation         0.413948         0.179146            2.311           0.021\n",
       "L2.M2               -1.918523         9.051456           -0.212           0.832\n",
       "L2.GDP               1.930881         9.098602            0.212           0.832\n",
       "L2.M2V              -1.950496         9.097423           -0.214           0.830\n",
       "L3.inflation         0.203554         0.214777            0.948           0.343\n",
       "L3.M2                1.690009         7.310025            0.231           0.817\n",
       "L3.GDP              -2.129114         7.390694           -0.288           0.773\n",
       "L3.M2V               2.025769         7.343630            0.276           0.783\n",
       "L4.inflation        -0.188121         0.211259           -0.890           0.373\n",
       "L4.M2               -0.072306         0.613476           -0.118           0.906\n",
       "L4.GDP               0.728183         0.614650            1.185           0.236\n",
       "L4.M2V              -0.425726         0.632138           -0.673           0.501\n",
       "===============================================================================\n",
       "\n",
       "Results for equation M2\n",
       "===============================================================================\n",
       "                  coefficient       std. error           t-stat            prob\n",
       "-------------------------------------------------------------------------------\n",
       "const                0.019275         0.017566            1.097           0.273\n",
       "L1.inflation        -0.794493         0.294430           -2.698           0.007\n",
       "L1.M2               -4.313308        10.727445           -0.402           0.688\n",
       "L1.GDP               5.497065        10.742413            0.512           0.609\n",
       "L1.M2V              -5.091272        10.813722           -0.471           0.638\n",
       "L2.inflation         0.047946         0.264473            0.181           0.856\n",
       "L2.M2              -12.520435        13.362648           -0.937           0.349\n",
       "L2.GDP              11.970059        13.432249            0.891           0.373\n",
       "L2.M2V             -12.345845        13.430509           -0.919           0.358\n",
       "L3.inflation        -0.004761         0.317074           -0.015           0.988\n",
       "L3.M2              -31.435328        10.791777           -2.913           0.004\n",
       "L3.GDP              31.512884        10.910869            2.888           0.004\n",
       "L3.M2V             -31.573836        10.841387           -2.912           0.004\n",
       "L4.inflation         0.005959         0.311882            0.019           0.985\n",
       "L4.M2                0.419310         0.905673            0.463           0.643\n",
       "L4.GDP              -0.117212         0.907407           -0.129           0.897\n",
       "L4.M2V               0.431600         0.933225            0.462           0.644\n",
       "===============================================================================\n",
       "\n",
       "Results for equation GDP\n",
       "===============================================================================\n",
       "                  coefficient       std. error           t-stat            prob\n",
       "-------------------------------------------------------------------------------\n",
       "const                0.007398         0.019209            0.385           0.700\n",
       "L1.inflation         0.455261         0.321972            1.414           0.157\n",
       "L1.M2              -20.710530        11.730921           -1.765           0.077\n",
       "L1.GDP              21.416998        11.747289            1.823           0.068\n",
       "L1.M2V             -20.868933        11.825268           -1.765           0.078\n",
       "L2.inflation        -0.073515         0.289213           -0.254           0.799\n",
       "L2.M2               12.814197        14.612629            0.877           0.381\n",
       "L2.GDP             -12.444506        14.688741           -0.847           0.397\n",
       "L2.M2V              12.632265        14.686837            0.860           0.390\n",
       "L3.inflation         0.080712         0.346734            0.233           0.816\n",
       "L3.M2               18.669671        11.801271            1.582           0.114\n",
       "L3.GDP             -19.281511        11.931503           -1.616           0.106\n",
       "L3.M2V              19.075951        11.855522            1.609           0.108\n",
       "L4.inflation        -0.048620         0.341056           -0.143           0.887\n",
       "L4.M2               -0.294423         0.990392           -0.297           0.766\n",
       "L4.GDP               0.436784         0.992289            0.440           0.660\n",
       "L4.M2V              -0.415342         1.020521           -0.407           0.684\n",
       "===============================================================================\n",
       "\n",
       "Results for equation M2V\n",
       "===============================================================================\n",
       "                  coefficient       std. error           t-stat            prob\n",
       "-------------------------------------------------------------------------------\n",
       "const               -0.012202         0.032181           -0.379           0.705\n",
       "L1.inflation         1.247986         0.539394            2.314           0.021\n",
       "L1.M2              -16.612448        19.652597           -0.845           0.398\n",
       "L1.GDP              16.132480        19.680018            0.820           0.412\n",
       "L1.M2V             -15.996804        19.810656           -0.807           0.419\n",
       "L2.inflation        -0.112082         0.484513           -0.231           0.817\n",
       "L2.M2               24.653447        24.480270            1.007           0.314\n",
       "L2.GDP             -23.739111        24.607779           -0.965           0.335\n",
       "L2.M2V              24.301248        24.604591            0.988           0.323\n",
       "L3.inflation         0.090820         0.580878            0.156           0.876\n",
       "L3.M2               49.656926        19.770453            2.512           0.012\n",
       "L3.GDP             -50.334396        19.988629           -2.518           0.012\n",
       "L3.M2V              50.192796        19.861339            2.527           0.011\n",
       "L4.inflation        -0.053999         0.571365           -0.095           0.925\n",
       "L4.M2               -0.708861         1.659186           -0.427           0.669\n",
       "L4.GDP               0.544590         1.662363            0.328           0.743\n",
       "L4.M2V              -0.837310         1.709660           -0.490           0.624\n",
       "===============================================================================\n",
       "\n",
       "Correlation matrix of residuals\n",
       "             inflation        M2       GDP       M2V\n",
       "inflation     1.000000 -0.012733 -0.085050 -0.046940\n",
       "M2           -0.012733  1.000000 -0.543099 -0.866883\n",
       "GDP          -0.085050 -0.543099  1.000000  0.889228\n",
       "M2V          -0.046940 -0.866883  0.889228  1.000000\n",
       "\n"
      ]
     },
     "metadata": {},
     "execution_count": 15
    }
   ],
   "source": [
    "model = VAR(test_data_log_diff[['inflation','M2','GDP', 'M2V']])\n",
    "results = model.fit(4)\n",
    "results.summary()"
   ]
  },
  {
   "cell_type": "code",
   "execution_count": 16,
   "metadata": {},
   "outputs": [
    {
     "output_type": "execute_result",
     "data": {
      "text/plain": [
       "<class 'statsmodels.iolib.summary.Summary'>\n",
       "\"\"\"\n",
       "                            OLS Regression Results                            \n",
       "==============================================================================\n",
       "Dep. Variable:              inflation   R-squared:                       0.111\n",
       "Model:                            OLS   Adj. R-squared:                  0.030\n",
       "Method:                 Least Squares   F-statistic:                     1.370\n",
       "Date:                Wed, 21 Apr 2021   Prob (F-statistic):              0.269\n",
       "Time:                        08:56:28   Log-Likelihood:                 103.96\n",
       "No. Observations:                  37   AIC:                            -199.9\n",
       "Df Residuals:                      33   BIC:                            -193.5\n",
       "Df Model:                           3                                         \n",
       "Covariance Type:            nonrobust                                         \n",
       "==============================================================================\n",
       "                 coef    std err          t      P>|t|      [0.025      0.975]\n",
       "------------------------------------------------------------------------------\n",
       "Intercept      0.0148      0.010      1.548      0.131      -0.005       0.034\n",
       "M2             5.4227      6.247      0.868      0.392      -7.287      18.132\n",
       "M2V            5.3879      6.253      0.862      0.395      -7.334      18.110\n",
       "GDP           -5.1549      6.246     -0.825      0.415     -17.863       7.554\n",
       "==============================================================================\n",
       "Omnibus:                       31.370   Durbin-Watson:                   1.267\n",
       "Prob(Omnibus):                  0.000   Jarque-Bera (JB):               76.699\n",
       "Skew:                           2.039   Prob(JB):                     2.21e-17\n",
       "Kurtosis:                       8.755   Cond. No.                     4.28e+03\n",
       "==============================================================================\n",
       "\n",
       "Warnings:\n",
       "[1] Standard Errors assume that the covariance matrix of the errors is correctly specified.\n",
       "[2] The condition number is large, 4.28e+03. This might indicate that there are\n",
       "strong multicollinearity or other numerical problems.\n",
       "\"\"\""
      ],
      "text/html": "<table class=\"simpletable\">\n<caption>OLS Regression Results</caption>\n<tr>\n  <th>Dep. Variable:</th>        <td>inflation</td>    <th>  R-squared:         </th> <td>   0.111</td>\n</tr>\n<tr>\n  <th>Model:</th>                   <td>OLS</td>       <th>  Adj. R-squared:    </th> <td>   0.030</td>\n</tr>\n<tr>\n  <th>Method:</th>             <td>Least Squares</td>  <th>  F-statistic:       </th> <td>   1.370</td>\n</tr>\n<tr>\n  <th>Date:</th>             <td>Wed, 21 Apr 2021</td> <th>  Prob (F-statistic):</th>  <td> 0.269</td> \n</tr>\n<tr>\n  <th>Time:</th>                 <td>08:56:28</td>     <th>  Log-Likelihood:    </th> <td>  103.96</td>\n</tr>\n<tr>\n  <th>No. Observations:</th>      <td>    37</td>      <th>  AIC:               </th> <td>  -199.9</td>\n</tr>\n<tr>\n  <th>Df Residuals:</th>          <td>    33</td>      <th>  BIC:               </th> <td>  -193.5</td>\n</tr>\n<tr>\n  <th>Df Model:</th>              <td>     3</td>      <th>                     </th>     <td> </td>   \n</tr>\n<tr>\n  <th>Covariance Type:</th>      <td>nonrobust</td>    <th>                     </th>     <td> </td>   \n</tr>\n</table>\n<table class=\"simpletable\">\n<tr>\n      <td></td>         <th>coef</th>     <th>std err</th>      <th>t</th>      <th>P>|t|</th>  <th>[0.025</th>    <th>0.975]</th>  \n</tr>\n<tr>\n  <th>Intercept</th> <td>    0.0148</td> <td>    0.010</td> <td>    1.548</td> <td> 0.131</td> <td>   -0.005</td> <td>    0.034</td>\n</tr>\n<tr>\n  <th>M2</th>        <td>    5.4227</td> <td>    6.247</td> <td>    0.868</td> <td> 0.392</td> <td>   -7.287</td> <td>   18.132</td>\n</tr>\n<tr>\n  <th>M2V</th>       <td>    5.3879</td> <td>    6.253</td> <td>    0.862</td> <td> 0.395</td> <td>   -7.334</td> <td>   18.110</td>\n</tr>\n<tr>\n  <th>GDP</th>       <td>   -5.1549</td> <td>    6.246</td> <td>   -0.825</td> <td> 0.415</td> <td>  -17.863</td> <td>    7.554</td>\n</tr>\n</table>\n<table class=\"simpletable\">\n<tr>\n  <th>Omnibus:</th>       <td>31.370</td> <th>  Durbin-Watson:     </th> <td>   1.267</td>\n</tr>\n<tr>\n  <th>Prob(Omnibus):</th> <td> 0.000</td> <th>  Jarque-Bera (JB):  </th> <td>  76.699</td>\n</tr>\n<tr>\n  <th>Skew:</th>          <td> 2.039</td> <th>  Prob(JB):          </th> <td>2.21e-17</td>\n</tr>\n<tr>\n  <th>Kurtosis:</th>      <td> 8.755</td> <th>  Cond. No.          </th> <td>4.28e+03</td>\n</tr>\n</table><br/><br/>Warnings:<br/>[1] Standard Errors assume that the covariance matrix of the errors is correctly specified.<br/>[2] The condition number is large, 4.28e+03. This might indicate that there are<br/>strong multicollinearity or other numerical problems."
     },
     "metadata": {},
     "execution_count": 16
    }
   ],
   "source": [
    "data_shifted = test_data_log_diff[['M2', 'GDP', 'M2V']].shift(-1)\n",
    "data_reg = data_shifted.join(test_data_log_diff['inflation'], how = 'inner').dropna()\n",
    "model = ols(\"inflation ~ M2 + M2V + GDP\", data_reg).fit()\n",
    "model.summary()"
   ]
  },
  {
   "cell_type": "code",
   "execution_count": 17,
   "metadata": {},
   "outputs": [
    {
     "output_type": "execute_result",
     "data": {
      "text/plain": [
       "<matplotlib.legend.Legend at 0x7fdf63a0b580>"
      ]
     },
     "metadata": {},
     "execution_count": 17
    },
    {
     "output_type": "display_data",
     "data": {
      "text/plain": "<Figure size 432x288 with 1 Axes>",
      "image/svg+xml": "<?xml version=\"1.0\" encoding=\"utf-8\" standalone=\"no\"?>\n<!DOCTYPE svg PUBLIC \"-//W3C//DTD SVG 1.1//EN\"\n  \"http://www.w3.org/Graphics/SVG/1.1/DTD/svg11.dtd\">\n<!-- Created with matplotlib (https://matplotlib.org/) -->\n<svg height=\"248.518125pt\" version=\"1.1\" viewBox=\"0 0 384.215531 248.518125\" width=\"384.215531pt\" xmlns=\"http://www.w3.org/2000/svg\" xmlns:xlink=\"http://www.w3.org/1999/xlink\">\n <metadata>\n  <rdf:RDF xmlns:cc=\"http://creativecommons.org/ns#\" xmlns:dc=\"http://purl.org/dc/elements/1.1/\" xmlns:rdf=\"http://www.w3.org/1999/02/22-rdf-syntax-ns#\">\n   <cc:Work>\n    <dc:type rdf:resource=\"http://purl.org/dc/dcmitype/StillImage\"/>\n    <dc:date>2021-04-21T08:56:29.084847</dc:date>\n    <dc:format>image/svg+xml</dc:format>\n    <dc:creator>\n     <cc:Agent>\n      <dc:title>Matplotlib v3.3.3, https://matplotlib.org/</dc:title>\n     </cc:Agent>\n    </dc:creator>\n   </cc:Work>\n  </rdf:RDF>\n </metadata>\n <defs>\n  <style type=\"text/css\">*{stroke-linecap:butt;stroke-linejoin:round;}</style>\n </defs>\n <g id=\"figure_1\">\n  <g id=\"patch_1\">\n   <path d=\"M 0 248.518125 \nL 384.215531 248.518125 \nL 384.215531 0 \nL 0 0 \nz\n\" style=\"fill:none;\"/>\n  </g>\n  <g id=\"axes_1\">\n   <g id=\"patch_2\">\n    <path d=\"M 36.465625 224.64 \nL 371.265625 224.64 \nL 371.265625 7.2 \nL 36.465625 7.2 \nz\n\" style=\"fill:#ffffff;\"/>\n   </g>\n   <g id=\"matplotlib.axis_1\">\n    <g id=\"xtick_1\">\n     <g id=\"line2d_1\">\n      <defs>\n       <path d=\"M 0 0 \nL 0 3.5 \n\" id=\"m102f985221\" style=\"stroke:#000000;stroke-width:0.8;\"/>\n      </defs>\n      <g>\n       <use style=\"stroke:#000000;stroke-width:0.8;\" x=\"68.147461\" xlink:href=\"#m102f985221\" y=\"224.64\"/>\n      </g>\n     </g>\n     <g id=\"text_1\">\n      <!-- 1984 -->\n      <g transform=\"translate(55.422461 239.238438)scale(0.1 -0.1)\">\n       <defs>\n        <path d=\"M 12.40625 8.296875 \nL 28.515625 8.296875 \nL 28.515625 63.921875 \nL 10.984375 60.40625 \nL 10.984375 69.390625 \nL 28.421875 72.90625 \nL 38.28125 72.90625 \nL 38.28125 8.296875 \nL 54.390625 8.296875 \nL 54.390625 0 \nL 12.40625 0 \nz\n\" id=\"DejaVuSans-49\"/>\n        <path d=\"M 10.984375 1.515625 \nL 10.984375 10.5 \nQ 14.703125 8.734375 18.5 7.8125 \nQ 22.3125 6.890625 25.984375 6.890625 \nQ 35.75 6.890625 40.890625 13.453125 \nQ 46.046875 20.015625 46.78125 33.40625 \nQ 43.953125 29.203125 39.59375 26.953125 \nQ 35.25 24.703125 29.984375 24.703125 \nQ 19.046875 24.703125 12.671875 31.3125 \nQ 6.296875 37.9375 6.296875 49.421875 \nQ 6.296875 60.640625 12.9375 67.421875 \nQ 19.578125 74.21875 30.609375 74.21875 \nQ 43.265625 74.21875 49.921875 64.515625 \nQ 56.59375 54.828125 56.59375 36.375 \nQ 56.59375 19.140625 48.40625 8.859375 \nQ 40.234375 -1.421875 26.421875 -1.421875 \nQ 22.703125 -1.421875 18.890625 -0.6875 \nQ 15.09375 0.046875 10.984375 1.515625 \nz\nM 30.609375 32.421875 \nQ 37.25 32.421875 41.125 36.953125 \nQ 45.015625 41.5 45.015625 49.421875 \nQ 45.015625 57.28125 41.125 61.84375 \nQ 37.25 66.40625 30.609375 66.40625 \nQ 23.96875 66.40625 20.09375 61.84375 \nQ 16.21875 57.28125 16.21875 49.421875 \nQ 16.21875 41.5 20.09375 36.953125 \nQ 23.96875 32.421875 30.609375 32.421875 \nz\n\" id=\"DejaVuSans-57\"/>\n        <path d=\"M 31.78125 34.625 \nQ 24.75 34.625 20.71875 30.859375 \nQ 16.703125 27.09375 16.703125 20.515625 \nQ 16.703125 13.921875 20.71875 10.15625 \nQ 24.75 6.390625 31.78125 6.390625 \nQ 38.8125 6.390625 42.859375 10.171875 \nQ 46.921875 13.96875 46.921875 20.515625 \nQ 46.921875 27.09375 42.890625 30.859375 \nQ 38.875 34.625 31.78125 34.625 \nz\nM 21.921875 38.8125 \nQ 15.578125 40.375 12.03125 44.71875 \nQ 8.5 49.078125 8.5 55.328125 \nQ 8.5 64.0625 14.71875 69.140625 \nQ 20.953125 74.21875 31.78125 74.21875 \nQ 42.671875 74.21875 48.875 69.140625 \nQ 55.078125 64.0625 55.078125 55.328125 \nQ 55.078125 49.078125 51.53125 44.71875 \nQ 48 40.375 41.703125 38.8125 \nQ 48.828125 37.15625 52.796875 32.3125 \nQ 56.78125 27.484375 56.78125 20.515625 \nQ 56.78125 9.90625 50.3125 4.234375 \nQ 43.84375 -1.421875 31.78125 -1.421875 \nQ 19.734375 -1.421875 13.25 4.234375 \nQ 6.78125 9.90625 6.78125 20.515625 \nQ 6.78125 27.484375 10.78125 32.3125 \nQ 14.796875 37.15625 21.921875 38.8125 \nz\nM 18.3125 54.390625 \nQ 18.3125 48.734375 21.84375 45.5625 \nQ 25.390625 42.390625 31.78125 42.390625 \nQ 38.140625 42.390625 41.71875 45.5625 \nQ 45.3125 48.734375 45.3125 54.390625 \nQ 45.3125 60.0625 41.71875 63.234375 \nQ 38.140625 66.40625 31.78125 66.40625 \nQ 25.390625 66.40625 21.84375 63.234375 \nQ 18.3125 60.0625 18.3125 54.390625 \nz\n\" id=\"DejaVuSans-56\"/>\n        <path d=\"M 37.796875 64.3125 \nL 12.890625 25.390625 \nL 37.796875 25.390625 \nz\nM 35.203125 72.90625 \nL 47.609375 72.90625 \nL 47.609375 25.390625 \nL 58.015625 25.390625 \nL 58.015625 17.1875 \nL 47.609375 17.1875 \nL 47.609375 0 \nL 37.796875 0 \nL 37.796875 17.1875 \nL 4.890625 17.1875 \nL 4.890625 26.703125 \nz\n\" id=\"DejaVuSans-52\"/>\n       </defs>\n       <use xlink:href=\"#DejaVuSans-49\"/>\n       <use x=\"63.623047\" xlink:href=\"#DejaVuSans-57\"/>\n       <use x=\"127.246094\" xlink:href=\"#DejaVuSans-56\"/>\n       <use x=\"190.869141\" xlink:href=\"#DejaVuSans-52\"/>\n      </g>\n     </g>\n    </g>\n    <g id=\"xtick_2\">\n     <g id=\"line2d_2\">\n      <g>\n       <use style=\"stroke:#000000;stroke-width:0.8;\" x=\"101.052246\" xlink:href=\"#m102f985221\" y=\"224.64\"/>\n      </g>\n     </g>\n     <g id=\"text_2\">\n      <!-- 1988 -->\n      <g transform=\"translate(88.327246 239.238438)scale(0.1 -0.1)\">\n       <use xlink:href=\"#DejaVuSans-49\"/>\n       <use x=\"63.623047\" xlink:href=\"#DejaVuSans-57\"/>\n       <use x=\"127.246094\" xlink:href=\"#DejaVuSans-56\"/>\n       <use x=\"190.869141\" xlink:href=\"#DejaVuSans-56\"/>\n      </g>\n     </g>\n    </g>\n    <g id=\"xtick_3\">\n     <g id=\"line2d_3\">\n      <g>\n       <use style=\"stroke:#000000;stroke-width:0.8;\" x=\"133.957032\" xlink:href=\"#m102f985221\" y=\"224.64\"/>\n      </g>\n     </g>\n     <g id=\"text_3\">\n      <!-- 1992 -->\n      <g transform=\"translate(121.232032 239.238438)scale(0.1 -0.1)\">\n       <defs>\n        <path d=\"M 19.1875 8.296875 \nL 53.609375 8.296875 \nL 53.609375 0 \nL 7.328125 0 \nL 7.328125 8.296875 \nQ 12.9375 14.109375 22.625 23.890625 \nQ 32.328125 33.6875 34.8125 36.53125 \nQ 39.546875 41.84375 41.421875 45.53125 \nQ 43.3125 49.21875 43.3125 52.78125 \nQ 43.3125 58.59375 39.234375 62.25 \nQ 35.15625 65.921875 28.609375 65.921875 \nQ 23.96875 65.921875 18.8125 64.3125 \nQ 13.671875 62.703125 7.8125 59.421875 \nL 7.8125 69.390625 \nQ 13.765625 71.78125 18.9375 73 \nQ 24.125 74.21875 28.421875 74.21875 \nQ 39.75 74.21875 46.484375 68.546875 \nQ 53.21875 62.890625 53.21875 53.421875 \nQ 53.21875 48.921875 51.53125 44.890625 \nQ 49.859375 40.875 45.40625 35.40625 \nQ 44.1875 33.984375 37.640625 27.21875 \nQ 31.109375 20.453125 19.1875 8.296875 \nz\n\" id=\"DejaVuSans-50\"/>\n       </defs>\n       <use xlink:href=\"#DejaVuSans-49\"/>\n       <use x=\"63.623047\" xlink:href=\"#DejaVuSans-57\"/>\n       <use x=\"127.246094\" xlink:href=\"#DejaVuSans-57\"/>\n       <use x=\"190.869141\" xlink:href=\"#DejaVuSans-50\"/>\n      </g>\n     </g>\n    </g>\n    <g id=\"xtick_4\">\n     <g id=\"line2d_4\">\n      <g>\n       <use style=\"stroke:#000000;stroke-width:0.8;\" x=\"166.861818\" xlink:href=\"#m102f985221\" y=\"224.64\"/>\n      </g>\n     </g>\n     <g id=\"text_4\">\n      <!-- 1996 -->\n      <g transform=\"translate(154.136818 239.238438)scale(0.1 -0.1)\">\n       <defs>\n        <path d=\"M 33.015625 40.375 \nQ 26.375 40.375 22.484375 35.828125 \nQ 18.609375 31.296875 18.609375 23.390625 \nQ 18.609375 15.53125 22.484375 10.953125 \nQ 26.375 6.390625 33.015625 6.390625 \nQ 39.65625 6.390625 43.53125 10.953125 \nQ 47.40625 15.53125 47.40625 23.390625 \nQ 47.40625 31.296875 43.53125 35.828125 \nQ 39.65625 40.375 33.015625 40.375 \nz\nM 52.59375 71.296875 \nL 52.59375 62.3125 \nQ 48.875 64.0625 45.09375 64.984375 \nQ 41.3125 65.921875 37.59375 65.921875 \nQ 27.828125 65.921875 22.671875 59.328125 \nQ 17.53125 52.734375 16.796875 39.40625 \nQ 19.671875 43.65625 24.015625 45.921875 \nQ 28.375 48.1875 33.59375 48.1875 \nQ 44.578125 48.1875 50.953125 41.515625 \nQ 57.328125 34.859375 57.328125 23.390625 \nQ 57.328125 12.15625 50.6875 5.359375 \nQ 44.046875 -1.421875 33.015625 -1.421875 \nQ 20.359375 -1.421875 13.671875 8.265625 \nQ 6.984375 17.96875 6.984375 36.375 \nQ 6.984375 53.65625 15.1875 63.9375 \nQ 23.390625 74.21875 37.203125 74.21875 \nQ 40.921875 74.21875 44.703125 73.484375 \nQ 48.484375 72.75 52.59375 71.296875 \nz\n\" id=\"DejaVuSans-54\"/>\n       </defs>\n       <use xlink:href=\"#DejaVuSans-49\"/>\n       <use x=\"63.623047\" xlink:href=\"#DejaVuSans-57\"/>\n       <use x=\"127.246094\" xlink:href=\"#DejaVuSans-57\"/>\n       <use x=\"190.869141\" xlink:href=\"#DejaVuSans-54\"/>\n      </g>\n     </g>\n    </g>\n    <g id=\"xtick_5\">\n     <g id=\"line2d_5\">\n      <g>\n       <use style=\"stroke:#000000;stroke-width:0.8;\" x=\"199.766603\" xlink:href=\"#m102f985221\" y=\"224.64\"/>\n      </g>\n     </g>\n     <g id=\"text_5\">\n      <!-- 2000 -->\n      <g transform=\"translate(187.041603 239.238438)scale(0.1 -0.1)\">\n       <defs>\n        <path d=\"M 31.78125 66.40625 \nQ 24.171875 66.40625 20.328125 58.90625 \nQ 16.5 51.421875 16.5 36.375 \nQ 16.5 21.390625 20.328125 13.890625 \nQ 24.171875 6.390625 31.78125 6.390625 \nQ 39.453125 6.390625 43.28125 13.890625 \nQ 47.125 21.390625 47.125 36.375 \nQ 47.125 51.421875 43.28125 58.90625 \nQ 39.453125 66.40625 31.78125 66.40625 \nz\nM 31.78125 74.21875 \nQ 44.046875 74.21875 50.515625 64.515625 \nQ 56.984375 54.828125 56.984375 36.375 \nQ 56.984375 17.96875 50.515625 8.265625 \nQ 44.046875 -1.421875 31.78125 -1.421875 \nQ 19.53125 -1.421875 13.0625 8.265625 \nQ 6.59375 17.96875 6.59375 36.375 \nQ 6.59375 54.828125 13.0625 64.515625 \nQ 19.53125 74.21875 31.78125 74.21875 \nz\n\" id=\"DejaVuSans-48\"/>\n       </defs>\n       <use xlink:href=\"#DejaVuSans-50\"/>\n       <use x=\"63.623047\" xlink:href=\"#DejaVuSans-48\"/>\n       <use x=\"127.246094\" xlink:href=\"#DejaVuSans-48\"/>\n       <use x=\"190.869141\" xlink:href=\"#DejaVuSans-48\"/>\n      </g>\n     </g>\n    </g>\n    <g id=\"xtick_6\">\n     <g id=\"line2d_6\">\n      <g>\n       <use style=\"stroke:#000000;stroke-width:0.8;\" x=\"232.671389\" xlink:href=\"#m102f985221\" y=\"224.64\"/>\n      </g>\n     </g>\n     <g id=\"text_6\">\n      <!-- 2004 -->\n      <g transform=\"translate(219.946389 239.238438)scale(0.1 -0.1)\">\n       <use xlink:href=\"#DejaVuSans-50\"/>\n       <use x=\"63.623047\" xlink:href=\"#DejaVuSans-48\"/>\n       <use x=\"127.246094\" xlink:href=\"#DejaVuSans-48\"/>\n       <use x=\"190.869141\" xlink:href=\"#DejaVuSans-52\"/>\n      </g>\n     </g>\n    </g>\n    <g id=\"xtick_7\">\n     <g id=\"line2d_7\">\n      <g>\n       <use style=\"stroke:#000000;stroke-width:0.8;\" x=\"265.576174\" xlink:href=\"#m102f985221\" y=\"224.64\"/>\n      </g>\n     </g>\n     <g id=\"text_7\">\n      <!-- 2008 -->\n      <g transform=\"translate(252.851174 239.238438)scale(0.1 -0.1)\">\n       <use xlink:href=\"#DejaVuSans-50\"/>\n       <use x=\"63.623047\" xlink:href=\"#DejaVuSans-48\"/>\n       <use x=\"127.246094\" xlink:href=\"#DejaVuSans-48\"/>\n       <use x=\"190.869141\" xlink:href=\"#DejaVuSans-56\"/>\n      </g>\n     </g>\n    </g>\n    <g id=\"xtick_8\">\n     <g id=\"line2d_8\">\n      <g>\n       <use style=\"stroke:#000000;stroke-width:0.8;\" x=\"298.48096\" xlink:href=\"#m102f985221\" y=\"224.64\"/>\n      </g>\n     </g>\n     <g id=\"text_8\">\n      <!-- 2012 -->\n      <g transform=\"translate(285.75596 239.238438)scale(0.1 -0.1)\">\n       <use xlink:href=\"#DejaVuSans-50\"/>\n       <use x=\"63.623047\" xlink:href=\"#DejaVuSans-48\"/>\n       <use x=\"127.246094\" xlink:href=\"#DejaVuSans-49\"/>\n       <use x=\"190.869141\" xlink:href=\"#DejaVuSans-50\"/>\n      </g>\n     </g>\n    </g>\n    <g id=\"xtick_9\">\n     <g id=\"line2d_9\">\n      <g>\n       <use style=\"stroke:#000000;stroke-width:0.8;\" x=\"331.385746\" xlink:href=\"#m102f985221\" y=\"224.64\"/>\n      </g>\n     </g>\n     <g id=\"text_9\">\n      <!-- 2016 -->\n      <g transform=\"translate(318.660746 239.238438)scale(0.1 -0.1)\">\n       <use xlink:href=\"#DejaVuSans-50\"/>\n       <use x=\"63.623047\" xlink:href=\"#DejaVuSans-48\"/>\n       <use x=\"127.246094\" xlink:href=\"#DejaVuSans-49\"/>\n       <use x=\"190.869141\" xlink:href=\"#DejaVuSans-54\"/>\n      </g>\n     </g>\n    </g>\n    <g id=\"xtick_10\">\n     <g id=\"line2d_10\">\n      <g>\n       <use style=\"stroke:#000000;stroke-width:0.8;\" x=\"364.290531\" xlink:href=\"#m102f985221\" y=\"224.64\"/>\n      </g>\n     </g>\n     <g id=\"text_10\">\n      <!-- 2020 -->\n      <g transform=\"translate(351.565531 239.238438)scale(0.1 -0.1)\">\n       <use xlink:href=\"#DejaVuSans-50\"/>\n       <use x=\"63.623047\" xlink:href=\"#DejaVuSans-48\"/>\n       <use x=\"127.246094\" xlink:href=\"#DejaVuSans-50\"/>\n       <use x=\"190.869141\" xlink:href=\"#DejaVuSans-48\"/>\n      </g>\n     </g>\n    </g>\n   </g>\n   <g id=\"matplotlib.axis_2\">\n    <g id=\"ytick_1\">\n     <g id=\"line2d_11\">\n      <defs>\n       <path d=\"M 0 0 \nL -3.5 0 \n\" id=\"m0a75fd6f22\" style=\"stroke:#000000;stroke-width:0.8;\"/>\n      </defs>\n      <g>\n       <use style=\"stroke:#000000;stroke-width:0.8;\" x=\"36.465625\" xlink:href=\"#m0a75fd6f22\" y=\"216.133607\"/>\n      </g>\n     </g>\n     <g id=\"text_11\">\n      <!-- 0.96 -->\n      <g transform=\"translate(7.2 219.932826)scale(0.1 -0.1)\">\n       <defs>\n        <path d=\"M 10.6875 12.40625 \nL 21 12.40625 \nL 21 0 \nL 10.6875 0 \nz\n\" id=\"DejaVuSans-46\"/>\n       </defs>\n       <use xlink:href=\"#DejaVuSans-48\"/>\n       <use x=\"63.623047\" xlink:href=\"#DejaVuSans-46\"/>\n       <use x=\"95.410156\" xlink:href=\"#DejaVuSans-57\"/>\n       <use x=\"159.033203\" xlink:href=\"#DejaVuSans-54\"/>\n      </g>\n     </g>\n    </g>\n    <g id=\"ytick_2\">\n     <g id=\"line2d_12\">\n      <g>\n       <use style=\"stroke:#000000;stroke-width:0.8;\" x=\"36.465625\" xlink:href=\"#m0a75fd6f22\" y=\"185.301916\"/>\n      </g>\n     </g>\n     <g id=\"text_12\">\n      <!-- 0.98 -->\n      <g transform=\"translate(7.2 189.101135)scale(0.1 -0.1)\">\n       <use xlink:href=\"#DejaVuSans-48\"/>\n       <use x=\"63.623047\" xlink:href=\"#DejaVuSans-46\"/>\n       <use x=\"95.410156\" xlink:href=\"#DejaVuSans-57\"/>\n       <use x=\"159.033203\" xlink:href=\"#DejaVuSans-56\"/>\n      </g>\n     </g>\n    </g>\n    <g id=\"ytick_3\">\n     <g id=\"line2d_13\">\n      <g>\n       <use style=\"stroke:#000000;stroke-width:0.8;\" x=\"36.465625\" xlink:href=\"#m0a75fd6f22\" y=\"154.470224\"/>\n      </g>\n     </g>\n     <g id=\"text_13\">\n      <!-- 1.00 -->\n      <g transform=\"translate(7.2 158.269443)scale(0.1 -0.1)\">\n       <use xlink:href=\"#DejaVuSans-49\"/>\n       <use x=\"63.623047\" xlink:href=\"#DejaVuSans-46\"/>\n       <use x=\"95.410156\" xlink:href=\"#DejaVuSans-48\"/>\n       <use x=\"159.033203\" xlink:href=\"#DejaVuSans-48\"/>\n      </g>\n     </g>\n    </g>\n    <g id=\"ytick_4\">\n     <g id=\"line2d_14\">\n      <g>\n       <use style=\"stroke:#000000;stroke-width:0.8;\" x=\"36.465625\" xlink:href=\"#m0a75fd6f22\" y=\"123.638533\"/>\n      </g>\n     </g>\n     <g id=\"text_14\">\n      <!-- 1.02 -->\n      <g transform=\"translate(7.2 127.437752)scale(0.1 -0.1)\">\n       <use xlink:href=\"#DejaVuSans-49\"/>\n       <use x=\"63.623047\" xlink:href=\"#DejaVuSans-46\"/>\n       <use x=\"95.410156\" xlink:href=\"#DejaVuSans-48\"/>\n       <use x=\"159.033203\" xlink:href=\"#DejaVuSans-50\"/>\n      </g>\n     </g>\n    </g>\n    <g id=\"ytick_5\">\n     <g id=\"line2d_15\">\n      <g>\n       <use style=\"stroke:#000000;stroke-width:0.8;\" x=\"36.465625\" xlink:href=\"#m0a75fd6f22\" y=\"92.806842\"/>\n      </g>\n     </g>\n     <g id=\"text_15\">\n      <!-- 1.04 -->\n      <g transform=\"translate(7.2 96.60606)scale(0.1 -0.1)\">\n       <use xlink:href=\"#DejaVuSans-49\"/>\n       <use x=\"63.623047\" xlink:href=\"#DejaVuSans-46\"/>\n       <use x=\"95.410156\" xlink:href=\"#DejaVuSans-48\"/>\n       <use x=\"159.033203\" xlink:href=\"#DejaVuSans-52\"/>\n      </g>\n     </g>\n    </g>\n    <g id=\"ytick_6\">\n     <g id=\"line2d_16\">\n      <g>\n       <use style=\"stroke:#000000;stroke-width:0.8;\" x=\"36.465625\" xlink:href=\"#m0a75fd6f22\" y=\"61.97515\"/>\n      </g>\n     </g>\n     <g id=\"text_16\">\n      <!-- 1.06 -->\n      <g transform=\"translate(7.2 65.774369)scale(0.1 -0.1)\">\n       <use xlink:href=\"#DejaVuSans-49\"/>\n       <use x=\"63.623047\" xlink:href=\"#DejaVuSans-46\"/>\n       <use x=\"95.410156\" xlink:href=\"#DejaVuSans-48\"/>\n       <use x=\"159.033203\" xlink:href=\"#DejaVuSans-54\"/>\n      </g>\n     </g>\n    </g>\n    <g id=\"ytick_7\">\n     <g id=\"line2d_17\">\n      <g>\n       <use style=\"stroke:#000000;stroke-width:0.8;\" x=\"36.465625\" xlink:href=\"#m0a75fd6f22\" y=\"31.143459\"/>\n      </g>\n     </g>\n     <g id=\"text_17\">\n      <!-- 1.08 -->\n      <g transform=\"translate(7.2 34.942677)scale(0.1 -0.1)\">\n       <use xlink:href=\"#DejaVuSans-49\"/>\n       <use x=\"63.623047\" xlink:href=\"#DejaVuSans-46\"/>\n       <use x=\"95.410156\" xlink:href=\"#DejaVuSans-48\"/>\n       <use x=\"159.033203\" xlink:href=\"#DejaVuSans-56\"/>\n      </g>\n     </g>\n    </g>\n   </g>\n   <g id=\"line2d_18\">\n    <path clip-path=\"url(#pf6fa368312)\" d=\"M 51.683807 167.07122 \nL 59.904373 137.521972 \nL 68.124939 214.756364 \nL 76.368027 180.962156 \nL 84.588592 193.573795 \nL 92.809158 157.633451 \nL 101.029724 161.659667 \nL 109.272812 168.426691 \nL 117.493378 206.510026 \nL 125.713944 186.662952 \nL 133.93451 176.706581 \nL 142.177598 176.593646 \nL 150.398164 181.009541 \nL 158.61873 151.231907 \nL 166.839295 176.738312 \nL 175.082383 190.340889 \nL 183.302949 171.717965 \nL 191.523515 170.254645 \nL 199.744081 174.119863 \nL 207.987169 207.174783 \nL 216.207735 186.042157 \nL 224.428301 162.627026 \nL 232.648867 166.874467 \nL 240.891955 160.464882 \nL 249.11252 170.161732 \nL 257.333086 207.024948 \nL 265.553652 191.812985 \nL 273.79674 174.789021 \nL 282.017306 164.169373 \nL 290.237872 168.271475 \nL 298.458438 196.335119 \nL 306.701526 176.548354 \nL 314.922092 165.266003 \nL 323.142658 186.13972 \nL 331.363223 165.61415 \nL 339.606311 178.314379 \nL 347.826877 190.063398 \nL 356.047443 177.439652 \n\" style=\"fill:none;stroke:#1f77b4;stroke-linecap:square;stroke-width:1.5;\"/>\n   </g>\n   <g id=\"line2d_19\">\n    <path clip-path=\"url(#pf6fa368312)\" d=\"M 51.683807 17.083636 \nL 59.904373 95.493556 \nL 68.124939 96.088823 \nL 76.368027 92.137909 \nL 84.588592 96.02152 \nL 92.809158 136.168307 \nL 101.029724 87.686777 \nL 109.272812 86.45914 \nL 117.493378 82.946831 \nL 125.713944 58.044903 \nL 133.93451 108.521355 \nL 142.177598 108.735805 \nL 150.398164 111.136856 \nL 158.61873 114.429067 \nL 166.839295 115.442767 \nL 175.082383 102.382896 \nL 183.302949 128.308827 \nL 191.523515 129.698161 \nL 199.744081 113.21127 \nL 207.987169 101.501086 \nL 216.207735 129.748364 \nL 224.428301 116.234756 \nL 232.648867 123.095841 \nL 240.891955 102.945565 \nL 249.11252 103.003656 \nL 257.333086 115.560972 \nL 265.553652 91.129391 \nL 273.79674 154.812888 \nL 282.017306 111.088137 \nL 290.237872 132.305429 \nL 298.458438 107.265874 \nL 306.701526 127.345967 \nL 314.922092 131.148542 \nL 323.142658 144.401806 \nL 331.363223 144.623742 \nL 339.606311 122.855425 \nL 347.826877 122.07393 \nL 356.047443 124.868883 \n\" style=\"fill:none;stroke:#ff7f0e;stroke-linecap:square;stroke-width:1.5;\"/>\n   </g>\n   <g id=\"patch_3\">\n    <path d=\"M 36.465625 224.64 \nL 36.465625 7.2 \n\" style=\"fill:none;stroke:#000000;stroke-linecap:square;stroke-linejoin:miter;stroke-width:0.8;\"/>\n   </g>\n   <g id=\"patch_4\">\n    <path d=\"M 371.265625 224.64 \nL 371.265625 7.2 \n\" style=\"fill:none;stroke:#000000;stroke-linecap:square;stroke-linejoin:miter;stroke-width:0.8;\"/>\n   </g>\n   <g id=\"patch_5\">\n    <path d=\"M 36.465625 224.64 \nL 371.265625 224.64 \n\" style=\"fill:none;stroke:#000000;stroke-linecap:square;stroke-linejoin:miter;stroke-width:0.8;\"/>\n   </g>\n   <g id=\"patch_6\">\n    <path d=\"M 36.465625 7.2 \nL 371.265625 7.2 \n\" style=\"fill:none;stroke:#000000;stroke-linecap:square;stroke-linejoin:miter;stroke-width:0.8;\"/>\n   </g>\n   <g id=\"legend_1\">\n    <g id=\"patch_7\">\n     <path d=\"M 284.83125 44.55625 \nL 364.265625 44.55625 \nQ 366.265625 44.55625 366.265625 42.55625 \nL 366.265625 14.2 \nQ 366.265625 12.2 364.265625 12.2 \nL 284.83125 12.2 \nQ 282.83125 12.2 282.83125 14.2 \nL 282.83125 42.55625 \nQ 282.83125 44.55625 284.83125 44.55625 \nz\n\" style=\"fill:#ffffff;opacity:0.8;stroke:#cccccc;stroke-linejoin:miter;\"/>\n    </g>\n    <g id=\"line2d_20\">\n     <path d=\"M 286.83125 20.298438 \nL 306.83125 20.298438 \n\" style=\"fill:none;stroke:#1f77b4;stroke-linecap:square;stroke-width:1.5;\"/>\n    </g>\n    <g id=\"line2d_21\"/>\n    <g id=\"text_18\">\n     <!-- predicted -->\n     <g transform=\"translate(314.83125 23.798438)scale(0.1 -0.1)\">\n      <defs>\n       <path d=\"M 18.109375 8.203125 \nL 18.109375 -20.796875 \nL 9.078125 -20.796875 \nL 9.078125 54.6875 \nL 18.109375 54.6875 \nL 18.109375 46.390625 \nQ 20.953125 51.265625 25.265625 53.625 \nQ 29.59375 56 35.59375 56 \nQ 45.5625 56 51.78125 48.09375 \nQ 58.015625 40.1875 58.015625 27.296875 \nQ 58.015625 14.40625 51.78125 6.484375 \nQ 45.5625 -1.421875 35.59375 -1.421875 \nQ 29.59375 -1.421875 25.265625 0.953125 \nQ 20.953125 3.328125 18.109375 8.203125 \nz\nM 48.6875 27.296875 \nQ 48.6875 37.203125 44.609375 42.84375 \nQ 40.53125 48.484375 33.40625 48.484375 \nQ 26.265625 48.484375 22.1875 42.84375 \nQ 18.109375 37.203125 18.109375 27.296875 \nQ 18.109375 17.390625 22.1875 11.75 \nQ 26.265625 6.109375 33.40625 6.109375 \nQ 40.53125 6.109375 44.609375 11.75 \nQ 48.6875 17.390625 48.6875 27.296875 \nz\n\" id=\"DejaVuSans-112\"/>\n       <path d=\"M 41.109375 46.296875 \nQ 39.59375 47.171875 37.8125 47.578125 \nQ 36.03125 48 33.890625 48 \nQ 26.265625 48 22.1875 43.046875 \nQ 18.109375 38.09375 18.109375 28.8125 \nL 18.109375 0 \nL 9.078125 0 \nL 9.078125 54.6875 \nL 18.109375 54.6875 \nL 18.109375 46.1875 \nQ 20.953125 51.171875 25.484375 53.578125 \nQ 30.03125 56 36.53125 56 \nQ 37.453125 56 38.578125 55.875 \nQ 39.703125 55.765625 41.0625 55.515625 \nz\n\" id=\"DejaVuSans-114\"/>\n       <path d=\"M 56.203125 29.59375 \nL 56.203125 25.203125 \nL 14.890625 25.203125 \nQ 15.484375 15.921875 20.484375 11.0625 \nQ 25.484375 6.203125 34.421875 6.203125 \nQ 39.59375 6.203125 44.453125 7.46875 \nQ 49.3125 8.734375 54.109375 11.28125 \nL 54.109375 2.78125 \nQ 49.265625 0.734375 44.1875 -0.34375 \nQ 39.109375 -1.421875 33.890625 -1.421875 \nQ 20.796875 -1.421875 13.15625 6.1875 \nQ 5.515625 13.8125 5.515625 26.8125 \nQ 5.515625 40.234375 12.765625 48.109375 \nQ 20.015625 56 32.328125 56 \nQ 43.359375 56 49.78125 48.890625 \nQ 56.203125 41.796875 56.203125 29.59375 \nz\nM 47.21875 32.234375 \nQ 47.125 39.59375 43.09375 43.984375 \nQ 39.0625 48.390625 32.421875 48.390625 \nQ 24.90625 48.390625 20.390625 44.140625 \nQ 15.875 39.890625 15.1875 32.171875 \nz\n\" id=\"DejaVuSans-101\"/>\n       <path d=\"M 45.40625 46.390625 \nL 45.40625 75.984375 \nL 54.390625 75.984375 \nL 54.390625 0 \nL 45.40625 0 \nL 45.40625 8.203125 \nQ 42.578125 3.328125 38.25 0.953125 \nQ 33.9375 -1.421875 27.875 -1.421875 \nQ 17.96875 -1.421875 11.734375 6.484375 \nQ 5.515625 14.40625 5.515625 27.296875 \nQ 5.515625 40.1875 11.734375 48.09375 \nQ 17.96875 56 27.875 56 \nQ 33.9375 56 38.25 53.625 \nQ 42.578125 51.265625 45.40625 46.390625 \nz\nM 14.796875 27.296875 \nQ 14.796875 17.390625 18.875 11.75 \nQ 22.953125 6.109375 30.078125 6.109375 \nQ 37.203125 6.109375 41.296875 11.75 \nQ 45.40625 17.390625 45.40625 27.296875 \nQ 45.40625 37.203125 41.296875 42.84375 \nQ 37.203125 48.484375 30.078125 48.484375 \nQ 22.953125 48.484375 18.875 42.84375 \nQ 14.796875 37.203125 14.796875 27.296875 \nz\n\" id=\"DejaVuSans-100\"/>\n       <path d=\"M 9.421875 54.6875 \nL 18.40625 54.6875 \nL 18.40625 0 \nL 9.421875 0 \nz\nM 9.421875 75.984375 \nL 18.40625 75.984375 \nL 18.40625 64.59375 \nL 9.421875 64.59375 \nz\n\" id=\"DejaVuSans-105\"/>\n       <path d=\"M 48.78125 52.59375 \nL 48.78125 44.1875 \nQ 44.96875 46.296875 41.140625 47.34375 \nQ 37.3125 48.390625 33.40625 48.390625 \nQ 24.65625 48.390625 19.8125 42.84375 \nQ 14.984375 37.3125 14.984375 27.296875 \nQ 14.984375 17.28125 19.8125 11.734375 \nQ 24.65625 6.203125 33.40625 6.203125 \nQ 37.3125 6.203125 41.140625 7.25 \nQ 44.96875 8.296875 48.78125 10.40625 \nL 48.78125 2.09375 \nQ 45.015625 0.34375 40.984375 -0.53125 \nQ 36.96875 -1.421875 32.421875 -1.421875 \nQ 20.0625 -1.421875 12.78125 6.34375 \nQ 5.515625 14.109375 5.515625 27.296875 \nQ 5.515625 40.671875 12.859375 48.328125 \nQ 20.21875 56 33.015625 56 \nQ 37.15625 56 41.109375 55.140625 \nQ 45.0625 54.296875 48.78125 52.59375 \nz\n\" id=\"DejaVuSans-99\"/>\n       <path d=\"M 18.3125 70.21875 \nL 18.3125 54.6875 \nL 36.8125 54.6875 \nL 36.8125 47.703125 \nL 18.3125 47.703125 \nL 18.3125 18.015625 \nQ 18.3125 11.328125 20.140625 9.421875 \nQ 21.96875 7.515625 27.59375 7.515625 \nL 36.8125 7.515625 \nL 36.8125 0 \nL 27.59375 0 \nQ 17.1875 0 13.234375 3.875 \nQ 9.28125 7.765625 9.28125 18.015625 \nL 9.28125 47.703125 \nL 2.6875 47.703125 \nL 2.6875 54.6875 \nL 9.28125 54.6875 \nL 9.28125 70.21875 \nz\n\" id=\"DejaVuSans-116\"/>\n      </defs>\n      <use xlink:href=\"#DejaVuSans-112\"/>\n      <use x=\"63.476562\" xlink:href=\"#DejaVuSans-114\"/>\n      <use x=\"102.339844\" xlink:href=\"#DejaVuSans-101\"/>\n      <use x=\"163.863281\" xlink:href=\"#DejaVuSans-100\"/>\n      <use x=\"227.339844\" xlink:href=\"#DejaVuSans-105\"/>\n      <use x=\"255.123047\" xlink:href=\"#DejaVuSans-99\"/>\n      <use x=\"310.103516\" xlink:href=\"#DejaVuSans-116\"/>\n      <use x=\"349.3125\" xlink:href=\"#DejaVuSans-101\"/>\n      <use x=\"410.835938\" xlink:href=\"#DejaVuSans-100\"/>\n     </g>\n    </g>\n    <g id=\"line2d_22\">\n     <path d=\"M 286.83125 34.976562 \nL 306.83125 34.976562 \n\" style=\"fill:none;stroke:#ff7f0e;stroke-linecap:square;stroke-width:1.5;\"/>\n    </g>\n    <g id=\"line2d_23\"/>\n    <g id=\"text_19\">\n     <!-- real -->\n     <g transform=\"translate(314.83125 38.476562)scale(0.1 -0.1)\">\n      <defs>\n       <path d=\"M 34.28125 27.484375 \nQ 23.390625 27.484375 19.1875 25 \nQ 14.984375 22.515625 14.984375 16.5 \nQ 14.984375 11.71875 18.140625 8.90625 \nQ 21.296875 6.109375 26.703125 6.109375 \nQ 34.1875 6.109375 38.703125 11.40625 \nQ 43.21875 16.703125 43.21875 25.484375 \nL 43.21875 27.484375 \nz\nM 52.203125 31.203125 \nL 52.203125 0 \nL 43.21875 0 \nL 43.21875 8.296875 \nQ 40.140625 3.328125 35.546875 0.953125 \nQ 30.953125 -1.421875 24.3125 -1.421875 \nQ 15.921875 -1.421875 10.953125 3.296875 \nQ 6 8.015625 6 15.921875 \nQ 6 25.140625 12.171875 29.828125 \nQ 18.359375 34.515625 30.609375 34.515625 \nL 43.21875 34.515625 \nL 43.21875 35.40625 \nQ 43.21875 41.609375 39.140625 45 \nQ 35.0625 48.390625 27.6875 48.390625 \nQ 23 48.390625 18.546875 47.265625 \nQ 14.109375 46.140625 10.015625 43.890625 \nL 10.015625 52.203125 \nQ 14.9375 54.109375 19.578125 55.046875 \nQ 24.21875 56 28.609375 56 \nQ 40.484375 56 46.34375 49.84375 \nQ 52.203125 43.703125 52.203125 31.203125 \nz\n\" id=\"DejaVuSans-97\"/>\n       <path d=\"M 9.421875 75.984375 \nL 18.40625 75.984375 \nL 18.40625 0 \nL 9.421875 0 \nz\n\" id=\"DejaVuSans-108\"/>\n      </defs>\n      <use xlink:href=\"#DejaVuSans-114\"/>\n      <use x=\"38.863281\" xlink:href=\"#DejaVuSans-101\"/>\n      <use x=\"100.386719\" xlink:href=\"#DejaVuSans-97\"/>\n      <use x=\"161.666016\" xlink:href=\"#DejaVuSans-108\"/>\n     </g>\n    </g>\n   </g>\n  </g>\n </g>\n <defs>\n  <clipPath id=\"pf6fa368312\">\n   <rect height=\"217.44\" width=\"334.8\" x=\"36.465625\" y=\"7.2\"/>\n  </clipPath>\n </defs>\n</svg>\n",
      "image/png": "[encoded data removed]"
     },
     "metadata": {
      "needs_background": "light"
     }
    }
   ],
   "source": [
    "import matplotlib.pyplot as plt\n",
    "data_sum = np.exp((data_shifted * np.array([-26.4, 26.4, -26.4])).sum(axis=1) - 0.015012)\n",
    "\n",
    "\n",
    "plt.plot(data_sum, label = 'predicted')\n",
    "plt.plot(np.exp(test_data_log_diff['inflation']), label = 'real')\n",
    "plt.legend()"
   ]
  },
  {
   "cell_type": "code",
   "execution_count": null,
   "metadata": {},
   "outputs": [],
   "source": []
  }
 ]
}