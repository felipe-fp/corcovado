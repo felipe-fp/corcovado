{
 "metadata": {
  "language_info": {
   "codemirror_mode": {
    "name": "ipython",
    "version": 3
   },
   "file_extension": ".py",
   "mimetype": "text/x-python",
   "name": "python",
   "nbconvert_exporter": "python",
   "pygments_lexer": "ipython3",
   "version": "3.8.5-final"
  },
  "orig_nbformat": 2,
  "kernelspec": {
   "name": "python385jvsc74a57bd0827744a92e9c42d5c63ff35b80cfa3107131624fe92a310042c181d36c989be1",
   "display_name": "Python 3.8.5 64-bit ('base': conda)"
  }
 },
 "nbformat": 4,
 "nbformat_minor": 2,
 "cells": [
  {
   "cell_type": "code",
   "execution_count": 3,
   "metadata": {},
   "outputs": [],
   "source": [
    "import pandas as pd\n",
    "import matplotlib.pyplot as plt\n",
    "import numpy as np\n",
    "from sklearn.preprocessing import StandardScaler\n",
    "import math as m\n",
    "from scipy.stats import pearsonr\n",
    "from scipy.spatial.distance import correlation as dcorr"
   ]
  },
  {
   "cell_type": "code",
   "execution_count": 4,
   "metadata": {},
   "outputs": [
    {
     "output_type": "execute_result",
     "data": {
      "text/plain": [
       "              Savings\n",
       "DATE                 \n",
       "1976-01-01  13.539554\n",
       "1976-02-01  14.601440\n",
       "1976-03-01  14.733235\n",
       "1976-04-01  14.572257\n",
       "1976-05-01  14.224241\n",
       "...               ...\n",
       "2016-11-01   7.169260\n",
       "2016-12-01   7.315219\n",
       "2017-01-01   7.122114\n",
       "2017-02-01   7.233679\n",
       "2017-03-01   6.755136\n",
       "\n",
       "[495 rows x 1 columns]"
      ],
      "text/html": "<div>\n<style scoped>\n    .dataframe tbody tr th:only-of-type {\n        vertical-align: middle;\n    }\n\n    .dataframe tbody tr th {\n        vertical-align: top;\n    }\n\n    .dataframe thead th {\n        text-align: right;\n    }\n</style>\n<table border=\"1\" class=\"dataframe\">\n  <thead>\n    <tr style=\"text-align: right;\">\n      <th></th>\n      <th>Savings</th>\n    </tr>\n    <tr>\n      <th>DATE</th>\n      <th></th>\n    </tr>\n  </thead>\n  <tbody>\n    <tr>\n      <th>1976-01-01</th>\n      <td>13.539554</td>\n    </tr>\n    <tr>\n      <th>1976-02-01</th>\n      <td>14.601440</td>\n    </tr>\n    <tr>\n      <th>1976-03-01</th>\n      <td>14.733235</td>\n    </tr>\n    <tr>\n      <th>1976-04-01</th>\n      <td>14.572257</td>\n    </tr>\n    <tr>\n      <th>1976-05-01</th>\n      <td>14.224241</td>\n    </tr>\n    <tr>\n      <th>...</th>\n      <td>...</td>\n    </tr>\n    <tr>\n      <th>2016-11-01</th>\n      <td>7.169260</td>\n    </tr>\n    <tr>\n      <th>2016-12-01</th>\n      <td>7.315219</td>\n    </tr>\n    <tr>\n      <th>2017-01-01</th>\n      <td>7.122114</td>\n    </tr>\n    <tr>\n      <th>2017-02-01</th>\n      <td>7.233679</td>\n    </tr>\n    <tr>\n      <th>2017-03-01</th>\n      <td>6.755136</td>\n    </tr>\n  </tbody>\n</table>\n<p>495 rows × 1 columns</p>\n</div>"
     },
     "metadata": {},
     "execution_count": 4
    }
   ],
   "source": [
    "inflation = pd.read_csv('Price_index.csv',index_col = 0)\n",
    "\n",
    "inflation.columns = ['price']\n",
    "inflation['delta'] = ((inflation['price'] - inflation['price'].shift(12))/inflation['price']) * 100\n",
    "inflation = inflation.loc['1976-01-01':'2017-03-01']\n",
    "\n",
    "savings = pd.read_csv('SAVINGSL.csv', index_col = 0)\n",
    "savings.columns = ['Savings']\n",
    "\n",
    "delta_difference = ((savings['Savings'] - savings['Savings'].shift(12))/savings['Savings']) * 100\n",
    "\n",
    "delta_difference = pd.DataFrame(delta_difference)\n",
    "delta_difference = delta_difference.loc['1976-01-01':'2017-03-01']\n",
    "delta_difference.columns=['Savings']\n",
    "\n",
    "## Je m'assure du type de données ##\n",
    "inflation.astype(dtype = 'float')\n",
    "delta_difference.astype(dtype = 'float')"
   ]
  },
  {
   "cell_type": "code",
   "execution_count": null,
   "metadata": {},
   "outputs": [],
   "source": []
  }
 ]
}